{
  "nbformat": 4,
  "nbformat_minor": 0,
  "metadata": {
    "colab": {
      "provenance": []
    },
    "kernelspec": {
      "name": "python3",
      "display_name": "Python 3"
    },
    "language_info": {
      "name": "python"
    }
  },
  "cells": [
    {
      "cell_type": "code",
      "execution_count": 2,
      "metadata": {
        "colab": {
          "base_uri": "https://localhost:8080/",
          "height": 438
        },
        "id": "ot61hMtpq5Mc",
        "outputId": "649b0d1c-4a27-494c-a290-d988a55efd0b"
      },
      "outputs": [
        {
          "output_type": "display_data",
          "data": {
            "text/plain": [
              "<IPython.core.display.HTML object>"
            ],
            "text/html": [
              "\n",
              "     <input type=\"file\" id=\"files-bcfced29-6ce0-454b-87b8-d3919aa40198\" name=\"files[]\" multiple disabled\n",
              "        style=\"border:none\" />\n",
              "     <output id=\"result-bcfced29-6ce0-454b-87b8-d3919aa40198\">\n",
              "      Upload widget is only available when the cell has been executed in the\n",
              "      current browser session. Please rerun this cell to enable.\n",
              "      </output>\n",
              "      <script>// Copyright 2017 Google LLC\n",
              "//\n",
              "// Licensed under the Apache License, Version 2.0 (the \"License\");\n",
              "// you may not use this file except in compliance with the License.\n",
              "// You may obtain a copy of the License at\n",
              "//\n",
              "//      http://www.apache.org/licenses/LICENSE-2.0\n",
              "//\n",
              "// Unless required by applicable law or agreed to in writing, software\n",
              "// distributed under the License is distributed on an \"AS IS\" BASIS,\n",
              "// WITHOUT WARRANTIES OR CONDITIONS OF ANY KIND, either express or implied.\n",
              "// See the License for the specific language governing permissions and\n",
              "// limitations under the License.\n",
              "\n",
              "/**\n",
              " * @fileoverview Helpers for google.colab Python module.\n",
              " */\n",
              "(function(scope) {\n",
              "function span(text, styleAttributes = {}) {\n",
              "  const element = document.createElement('span');\n",
              "  element.textContent = text;\n",
              "  for (const key of Object.keys(styleAttributes)) {\n",
              "    element.style[key] = styleAttributes[key];\n",
              "  }\n",
              "  return element;\n",
              "}\n",
              "\n",
              "// Max number of bytes which will be uploaded at a time.\n",
              "const MAX_PAYLOAD_SIZE = 100 * 1024;\n",
              "\n",
              "function _uploadFiles(inputId, outputId) {\n",
              "  const steps = uploadFilesStep(inputId, outputId);\n",
              "  const outputElement = document.getElementById(outputId);\n",
              "  // Cache steps on the outputElement to make it available for the next call\n",
              "  // to uploadFilesContinue from Python.\n",
              "  outputElement.steps = steps;\n",
              "\n",
              "  return _uploadFilesContinue(outputId);\n",
              "}\n",
              "\n",
              "// This is roughly an async generator (not supported in the browser yet),\n",
              "// where there are multiple asynchronous steps and the Python side is going\n",
              "// to poll for completion of each step.\n",
              "// This uses a Promise to block the python side on completion of each step,\n",
              "// then passes the result of the previous step as the input to the next step.\n",
              "function _uploadFilesContinue(outputId) {\n",
              "  const outputElement = document.getElementById(outputId);\n",
              "  const steps = outputElement.steps;\n",
              "\n",
              "  const next = steps.next(outputElement.lastPromiseValue);\n",
              "  return Promise.resolve(next.value.promise).then((value) => {\n",
              "    // Cache the last promise value to make it available to the next\n",
              "    // step of the generator.\n",
              "    outputElement.lastPromiseValue = value;\n",
              "    return next.value.response;\n",
              "  });\n",
              "}\n",
              "\n",
              "/**\n",
              " * Generator function which is called between each async step of the upload\n",
              " * process.\n",
              " * @param {string} inputId Element ID of the input file picker element.\n",
              " * @param {string} outputId Element ID of the output display.\n",
              " * @return {!Iterable<!Object>} Iterable of next steps.\n",
              " */\n",
              "function* uploadFilesStep(inputId, outputId) {\n",
              "  const inputElement = document.getElementById(inputId);\n",
              "  inputElement.disabled = false;\n",
              "\n",
              "  const outputElement = document.getElementById(outputId);\n",
              "  outputElement.innerHTML = '';\n",
              "\n",
              "  const pickedPromise = new Promise((resolve) => {\n",
              "    inputElement.addEventListener('change', (e) => {\n",
              "      resolve(e.target.files);\n",
              "    });\n",
              "  });\n",
              "\n",
              "  const cancel = document.createElement('button');\n",
              "  inputElement.parentElement.appendChild(cancel);\n",
              "  cancel.textContent = 'Cancel upload';\n",
              "  const cancelPromise = new Promise((resolve) => {\n",
              "    cancel.onclick = () => {\n",
              "      resolve(null);\n",
              "    };\n",
              "  });\n",
              "\n",
              "  // Wait for the user to pick the files.\n",
              "  const files = yield {\n",
              "    promise: Promise.race([pickedPromise, cancelPromise]),\n",
              "    response: {\n",
              "      action: 'starting',\n",
              "    }\n",
              "  };\n",
              "\n",
              "  cancel.remove();\n",
              "\n",
              "  // Disable the input element since further picks are not allowed.\n",
              "  inputElement.disabled = true;\n",
              "\n",
              "  if (!files) {\n",
              "    return {\n",
              "      response: {\n",
              "        action: 'complete',\n",
              "      }\n",
              "    };\n",
              "  }\n",
              "\n",
              "  for (const file of files) {\n",
              "    const li = document.createElement('li');\n",
              "    li.append(span(file.name, {fontWeight: 'bold'}));\n",
              "    li.append(span(\n",
              "        `(${file.type || 'n/a'}) - ${file.size} bytes, ` +\n",
              "        `last modified: ${\n",
              "            file.lastModifiedDate ? file.lastModifiedDate.toLocaleDateString() :\n",
              "                                    'n/a'} - `));\n",
              "    const percent = span('0% done');\n",
              "    li.appendChild(percent);\n",
              "\n",
              "    outputElement.appendChild(li);\n",
              "\n",
              "    const fileDataPromise = new Promise((resolve) => {\n",
              "      const reader = new FileReader();\n",
              "      reader.onload = (e) => {\n",
              "        resolve(e.target.result);\n",
              "      };\n",
              "      reader.readAsArrayBuffer(file);\n",
              "    });\n",
              "    // Wait for the data to be ready.\n",
              "    let fileData = yield {\n",
              "      promise: fileDataPromise,\n",
              "      response: {\n",
              "        action: 'continue',\n",
              "      }\n",
              "    };\n",
              "\n",
              "    // Use a chunked sending to avoid message size limits. See b/62115660.\n",
              "    let position = 0;\n",
              "    do {\n",
              "      const length = Math.min(fileData.byteLength - position, MAX_PAYLOAD_SIZE);\n",
              "      const chunk = new Uint8Array(fileData, position, length);\n",
              "      position += length;\n",
              "\n",
              "      const base64 = btoa(String.fromCharCode.apply(null, chunk));\n",
              "      yield {\n",
              "        response: {\n",
              "          action: 'append',\n",
              "          file: file.name,\n",
              "          data: base64,\n",
              "        },\n",
              "      };\n",
              "\n",
              "      let percentDone = fileData.byteLength === 0 ?\n",
              "          100 :\n",
              "          Math.round((position / fileData.byteLength) * 100);\n",
              "      percent.textContent = `${percentDone}% done`;\n",
              "\n",
              "    } while (position < fileData.byteLength);\n",
              "  }\n",
              "\n",
              "  // All done.\n",
              "  yield {\n",
              "    response: {\n",
              "      action: 'complete',\n",
              "    }\n",
              "  };\n",
              "}\n",
              "\n",
              "scope.google = scope.google || {};\n",
              "scope.google.colab = scope.google.colab || {};\n",
              "scope.google.colab._files = {\n",
              "  _uploadFiles,\n",
              "  _uploadFilesContinue,\n",
              "};\n",
              "})(self);\n",
              "</script> "
            ]
          },
          "metadata": {}
        },
        {
          "output_type": "stream",
          "name": "stdout",
          "text": [
            "Saving BostonHousing.csv to BostonHousing (1).csv\n"
          ]
        },
        {
          "output_type": "execute_result",
          "data": {
            "text/plain": [
              "               ZN       INDUS        CHAS         NOX          RM         AGE  \\\n",
              "count  506.000000  506.000000  506.000000  506.000000  506.000000  506.000000   \n",
              "mean    11.363636   11.136779    0.069170    0.554695    6.284634   68.574901   \n",
              "std     23.322453    6.860353    0.253994    0.115878    0.702617   28.148861   \n",
              "min      0.000000    0.460000    0.000000    0.385000    3.561000    2.900000   \n",
              "25%      0.000000    5.190000    0.000000    0.449000    5.885500   45.025000   \n",
              "50%      0.000000    9.690000    0.000000    0.538000    6.208500   77.500000   \n",
              "75%     12.500000   18.100000    0.000000    0.624000    6.623500   94.075000   \n",
              "max    100.000000   27.740000    1.000000    0.871000    8.780000  100.000000   \n",
              "\n",
              "              DIS         RAD         TAX     PTRATIO       LSTAT        MEDV  \\\n",
              "count  506.000000  506.000000  506.000000  506.000000  506.000000  506.000000   \n",
              "mean     3.795043    9.549407  408.237154   18.455534   12.653063   22.532806   \n",
              "std      2.105710    8.707259  168.537116    2.164946    7.141062    9.197104   \n",
              "min      1.129600    1.000000  187.000000   12.600000    1.730000    5.000000   \n",
              "25%      2.100175    4.000000  279.000000   17.400000    6.950000   17.025000   \n",
              "50%      3.207450    5.000000  330.000000   19.050000   11.360000   21.200000   \n",
              "75%      5.188425   24.000000  666.000000   20.200000   16.955000   25.000000   \n",
              "max     12.126500   24.000000  711.000000   22.000000   37.970000   50.000000   \n",
              "\n",
              "        CAT. MEDV  \n",
              "count  506.000000  \n",
              "mean     0.166008  \n",
              "std      0.372456  \n",
              "min      0.000000  \n",
              "25%      0.000000  \n",
              "50%      0.000000  \n",
              "75%      0.000000  \n",
              "max      1.000000  "
            ],
            "text/html": [
              "\n",
              "  <div id=\"df-2df94e1c-2c8f-4798-a33a-08c1ea71aa5b\">\n",
              "    <div class=\"colab-df-container\">\n",
              "      <div>\n",
              "<style scoped>\n",
              "    .dataframe tbody tr th:only-of-type {\n",
              "        vertical-align: middle;\n",
              "    }\n",
              "\n",
              "    .dataframe tbody tr th {\n",
              "        vertical-align: top;\n",
              "    }\n",
              "\n",
              "    .dataframe thead th {\n",
              "        text-align: right;\n",
              "    }\n",
              "</style>\n",
              "<table border=\"1\" class=\"dataframe\">\n",
              "  <thead>\n",
              "    <tr style=\"text-align: right;\">\n",
              "      <th></th>\n",
              "      <th>ZN</th>\n",
              "      <th>INDUS</th>\n",
              "      <th>CHAS</th>\n",
              "      <th>NOX</th>\n",
              "      <th>RM</th>\n",
              "      <th>AGE</th>\n",
              "      <th>DIS</th>\n",
              "      <th>RAD</th>\n",
              "      <th>TAX</th>\n",
              "      <th>PTRATIO</th>\n",
              "      <th>LSTAT</th>\n",
              "      <th>MEDV</th>\n",
              "      <th>CAT. MEDV</th>\n",
              "    </tr>\n",
              "  </thead>\n",
              "  <tbody>\n",
              "    <tr>\n",
              "      <th>count</th>\n",
              "      <td>506.000000</td>\n",
              "      <td>506.000000</td>\n",
              "      <td>506.000000</td>\n",
              "      <td>506.000000</td>\n",
              "      <td>506.000000</td>\n",
              "      <td>506.000000</td>\n",
              "      <td>506.000000</td>\n",
              "      <td>506.000000</td>\n",
              "      <td>506.000000</td>\n",
              "      <td>506.000000</td>\n",
              "      <td>506.000000</td>\n",
              "      <td>506.000000</td>\n",
              "      <td>506.000000</td>\n",
              "    </tr>\n",
              "    <tr>\n",
              "      <th>mean</th>\n",
              "      <td>11.363636</td>\n",
              "      <td>11.136779</td>\n",
              "      <td>0.069170</td>\n",
              "      <td>0.554695</td>\n",
              "      <td>6.284634</td>\n",
              "      <td>68.574901</td>\n",
              "      <td>3.795043</td>\n",
              "      <td>9.549407</td>\n",
              "      <td>408.237154</td>\n",
              "      <td>18.455534</td>\n",
              "      <td>12.653063</td>\n",
              "      <td>22.532806</td>\n",
              "      <td>0.166008</td>\n",
              "    </tr>\n",
              "    <tr>\n",
              "      <th>std</th>\n",
              "      <td>23.322453</td>\n",
              "      <td>6.860353</td>\n",
              "      <td>0.253994</td>\n",
              "      <td>0.115878</td>\n",
              "      <td>0.702617</td>\n",
              "      <td>28.148861</td>\n",
              "      <td>2.105710</td>\n",
              "      <td>8.707259</td>\n",
              "      <td>168.537116</td>\n",
              "      <td>2.164946</td>\n",
              "      <td>7.141062</td>\n",
              "      <td>9.197104</td>\n",
              "      <td>0.372456</td>\n",
              "    </tr>\n",
              "    <tr>\n",
              "      <th>min</th>\n",
              "      <td>0.000000</td>\n",
              "      <td>0.460000</td>\n",
              "      <td>0.000000</td>\n",
              "      <td>0.385000</td>\n",
              "      <td>3.561000</td>\n",
              "      <td>2.900000</td>\n",
              "      <td>1.129600</td>\n",
              "      <td>1.000000</td>\n",
              "      <td>187.000000</td>\n",
              "      <td>12.600000</td>\n",
              "      <td>1.730000</td>\n",
              "      <td>5.000000</td>\n",
              "      <td>0.000000</td>\n",
              "    </tr>\n",
              "    <tr>\n",
              "      <th>25%</th>\n",
              "      <td>0.000000</td>\n",
              "      <td>5.190000</td>\n",
              "      <td>0.000000</td>\n",
              "      <td>0.449000</td>\n",
              "      <td>5.885500</td>\n",
              "      <td>45.025000</td>\n",
              "      <td>2.100175</td>\n",
              "      <td>4.000000</td>\n",
              "      <td>279.000000</td>\n",
              "      <td>17.400000</td>\n",
              "      <td>6.950000</td>\n",
              "      <td>17.025000</td>\n",
              "      <td>0.000000</td>\n",
              "    </tr>\n",
              "    <tr>\n",
              "      <th>50%</th>\n",
              "      <td>0.000000</td>\n",
              "      <td>9.690000</td>\n",
              "      <td>0.000000</td>\n",
              "      <td>0.538000</td>\n",
              "      <td>6.208500</td>\n",
              "      <td>77.500000</td>\n",
              "      <td>3.207450</td>\n",
              "      <td>5.000000</td>\n",
              "      <td>330.000000</td>\n",
              "      <td>19.050000</td>\n",
              "      <td>11.360000</td>\n",
              "      <td>21.200000</td>\n",
              "      <td>0.000000</td>\n",
              "    </tr>\n",
              "    <tr>\n",
              "      <th>75%</th>\n",
              "      <td>12.500000</td>\n",
              "      <td>18.100000</td>\n",
              "      <td>0.000000</td>\n",
              "      <td>0.624000</td>\n",
              "      <td>6.623500</td>\n",
              "      <td>94.075000</td>\n",
              "      <td>5.188425</td>\n",
              "      <td>24.000000</td>\n",
              "      <td>666.000000</td>\n",
              "      <td>20.200000</td>\n",
              "      <td>16.955000</td>\n",
              "      <td>25.000000</td>\n",
              "      <td>0.000000</td>\n",
              "    </tr>\n",
              "    <tr>\n",
              "      <th>max</th>\n",
              "      <td>100.000000</td>\n",
              "      <td>27.740000</td>\n",
              "      <td>1.000000</td>\n",
              "      <td>0.871000</td>\n",
              "      <td>8.780000</td>\n",
              "      <td>100.000000</td>\n",
              "      <td>12.126500</td>\n",
              "      <td>24.000000</td>\n",
              "      <td>711.000000</td>\n",
              "      <td>22.000000</td>\n",
              "      <td>37.970000</td>\n",
              "      <td>50.000000</td>\n",
              "      <td>1.000000</td>\n",
              "    </tr>\n",
              "  </tbody>\n",
              "</table>\n",
              "</div>\n",
              "      <button class=\"colab-df-convert\" onclick=\"convertToInteractive('df-2df94e1c-2c8f-4798-a33a-08c1ea71aa5b')\"\n",
              "              title=\"Convert this dataframe to an interactive table.\"\n",
              "              style=\"display:none;\">\n",
              "        \n",
              "  <svg xmlns=\"http://www.w3.org/2000/svg\" height=\"24px\"viewBox=\"0 0 24 24\"\n",
              "       width=\"24px\">\n",
              "    <path d=\"M0 0h24v24H0V0z\" fill=\"none\"/>\n",
              "    <path d=\"M18.56 5.44l.94 2.06.94-2.06 2.06-.94-2.06-.94-.94-2.06-.94 2.06-2.06.94zm-11 1L8.5 8.5l.94-2.06 2.06-.94-2.06-.94L8.5 2.5l-.94 2.06-2.06.94zm10 10l.94 2.06.94-2.06 2.06-.94-2.06-.94-.94-2.06-.94 2.06-2.06.94z\"/><path d=\"M17.41 7.96l-1.37-1.37c-.4-.4-.92-.59-1.43-.59-.52 0-1.04.2-1.43.59L10.3 9.45l-7.72 7.72c-.78.78-.78 2.05 0 2.83L4 21.41c.39.39.9.59 1.41.59.51 0 1.02-.2 1.41-.59l7.78-7.78 2.81-2.81c.8-.78.8-2.07 0-2.86zM5.41 20L4 18.59l7.72-7.72 1.47 1.35L5.41 20z\"/>\n",
              "  </svg>\n",
              "      </button>\n",
              "      \n",
              "  <style>\n",
              "    .colab-df-container {\n",
              "      display:flex;\n",
              "      flex-wrap:wrap;\n",
              "      gap: 12px;\n",
              "    }\n",
              "\n",
              "    .colab-df-convert {\n",
              "      background-color: #E8F0FE;\n",
              "      border: none;\n",
              "      border-radius: 50%;\n",
              "      cursor: pointer;\n",
              "      display: none;\n",
              "      fill: #1967D2;\n",
              "      height: 32px;\n",
              "      padding: 0 0 0 0;\n",
              "      width: 32px;\n",
              "    }\n",
              "\n",
              "    .colab-df-convert:hover {\n",
              "      background-color: #E2EBFA;\n",
              "      box-shadow: 0px 1px 2px rgba(60, 64, 67, 0.3), 0px 1px 3px 1px rgba(60, 64, 67, 0.15);\n",
              "      fill: #174EA6;\n",
              "    }\n",
              "\n",
              "    [theme=dark] .colab-df-convert {\n",
              "      background-color: #3B4455;\n",
              "      fill: #D2E3FC;\n",
              "    }\n",
              "\n",
              "    [theme=dark] .colab-df-convert:hover {\n",
              "      background-color: #434B5C;\n",
              "      box-shadow: 0px 1px 3px 1px rgba(0, 0, 0, 0.15);\n",
              "      filter: drop-shadow(0px 1px 2px rgba(0, 0, 0, 0.3));\n",
              "      fill: #FFFFFF;\n",
              "    }\n",
              "  </style>\n",
              "\n",
              "      <script>\n",
              "        const buttonEl =\n",
              "          document.querySelector('#df-2df94e1c-2c8f-4798-a33a-08c1ea71aa5b button.colab-df-convert');\n",
              "        buttonEl.style.display =\n",
              "          google.colab.kernel.accessAllowed ? 'block' : 'none';\n",
              "\n",
              "        async function convertToInteractive(key) {\n",
              "          const element = document.querySelector('#df-2df94e1c-2c8f-4798-a33a-08c1ea71aa5b');\n",
              "          const dataTable =\n",
              "            await google.colab.kernel.invokeFunction('convertToInteractive',\n",
              "                                                     [key], {});\n",
              "          if (!dataTable) return;\n",
              "\n",
              "          const docLinkHtml = 'Like what you see? Visit the ' +\n",
              "            '<a target=\"_blank\" href=https://colab.research.google.com/notebooks/data_table.ipynb>data table notebook</a>'\n",
              "            + ' to learn more about interactive tables.';\n",
              "          element.innerHTML = '';\n",
              "          dataTable['output_type'] = 'display_data';\n",
              "          await google.colab.output.renderOutput(dataTable, element);\n",
              "          const docLink = document.createElement('div');\n",
              "          docLink.innerHTML = docLinkHtml;\n",
              "          element.appendChild(docLink);\n",
              "        }\n",
              "      </script>\n",
              "    </div>\n",
              "  </div>\n",
              "  "
            ]
          },
          "metadata": {},
          "execution_count": 2
        }
      ],
      "source": [
        "import pandas as pd\n",
        "from google.colab import files\n",
        "\n",
        "uploaded = files.upload()\n",
        "\n",
        "import io\n",
        "dfGW = pd.read_csv(io.BytesIO(uploaded['BostonHousing.csv']), index_col = 0)\n",
        "dfGW.describe(include = 'all')\n"
      ]
    },
    {
      "cell_type": "code",
      "source": [
        "dfGW = dfGW.drop(\"MEDV\", axis='columns')\n",
        "dfGW.describe(include = 'all')"
      ],
      "metadata": {
        "colab": {
          "base_uri": "https://localhost:8080/",
          "height": 382
        },
        "id": "p_cPHm7HrH2n",
        "outputId": "b457c4a8-c490-4241-ebba-2ee472a5ea3a"
      },
      "execution_count": 3,
      "outputs": [
        {
          "output_type": "execute_result",
          "data": {
            "text/plain": [
              "               ZN       INDUS        CHAS         NOX          RM         AGE  \\\n",
              "count  506.000000  506.000000  506.000000  506.000000  506.000000  506.000000   \n",
              "mean    11.363636   11.136779    0.069170    0.554695    6.284634   68.574901   \n",
              "std     23.322453    6.860353    0.253994    0.115878    0.702617   28.148861   \n",
              "min      0.000000    0.460000    0.000000    0.385000    3.561000    2.900000   \n",
              "25%      0.000000    5.190000    0.000000    0.449000    5.885500   45.025000   \n",
              "50%      0.000000    9.690000    0.000000    0.538000    6.208500   77.500000   \n",
              "75%     12.500000   18.100000    0.000000    0.624000    6.623500   94.075000   \n",
              "max    100.000000   27.740000    1.000000    0.871000    8.780000  100.000000   \n",
              "\n",
              "              DIS         RAD         TAX     PTRATIO       LSTAT   CAT. MEDV  \n",
              "count  506.000000  506.000000  506.000000  506.000000  506.000000  506.000000  \n",
              "mean     3.795043    9.549407  408.237154   18.455534   12.653063    0.166008  \n",
              "std      2.105710    8.707259  168.537116    2.164946    7.141062    0.372456  \n",
              "min      1.129600    1.000000  187.000000   12.600000    1.730000    0.000000  \n",
              "25%      2.100175    4.000000  279.000000   17.400000    6.950000    0.000000  \n",
              "50%      3.207450    5.000000  330.000000   19.050000   11.360000    0.000000  \n",
              "75%      5.188425   24.000000  666.000000   20.200000   16.955000    0.000000  \n",
              "max     12.126500   24.000000  711.000000   22.000000   37.970000    1.000000  "
            ],
            "text/html": [
              "\n",
              "  <div id=\"df-fed52805-eb55-4649-9f7d-cb02e56be386\">\n",
              "    <div class=\"colab-df-container\">\n",
              "      <div>\n",
              "<style scoped>\n",
              "    .dataframe tbody tr th:only-of-type {\n",
              "        vertical-align: middle;\n",
              "    }\n",
              "\n",
              "    .dataframe tbody tr th {\n",
              "        vertical-align: top;\n",
              "    }\n",
              "\n",
              "    .dataframe thead th {\n",
              "        text-align: right;\n",
              "    }\n",
              "</style>\n",
              "<table border=\"1\" class=\"dataframe\">\n",
              "  <thead>\n",
              "    <tr style=\"text-align: right;\">\n",
              "      <th></th>\n",
              "      <th>ZN</th>\n",
              "      <th>INDUS</th>\n",
              "      <th>CHAS</th>\n",
              "      <th>NOX</th>\n",
              "      <th>RM</th>\n",
              "      <th>AGE</th>\n",
              "      <th>DIS</th>\n",
              "      <th>RAD</th>\n",
              "      <th>TAX</th>\n",
              "      <th>PTRATIO</th>\n",
              "      <th>LSTAT</th>\n",
              "      <th>CAT. MEDV</th>\n",
              "    </tr>\n",
              "  </thead>\n",
              "  <tbody>\n",
              "    <tr>\n",
              "      <th>count</th>\n",
              "      <td>506.000000</td>\n",
              "      <td>506.000000</td>\n",
              "      <td>506.000000</td>\n",
              "      <td>506.000000</td>\n",
              "      <td>506.000000</td>\n",
              "      <td>506.000000</td>\n",
              "      <td>506.000000</td>\n",
              "      <td>506.000000</td>\n",
              "      <td>506.000000</td>\n",
              "      <td>506.000000</td>\n",
              "      <td>506.000000</td>\n",
              "      <td>506.000000</td>\n",
              "    </tr>\n",
              "    <tr>\n",
              "      <th>mean</th>\n",
              "      <td>11.363636</td>\n",
              "      <td>11.136779</td>\n",
              "      <td>0.069170</td>\n",
              "      <td>0.554695</td>\n",
              "      <td>6.284634</td>\n",
              "      <td>68.574901</td>\n",
              "      <td>3.795043</td>\n",
              "      <td>9.549407</td>\n",
              "      <td>408.237154</td>\n",
              "      <td>18.455534</td>\n",
              "      <td>12.653063</td>\n",
              "      <td>0.166008</td>\n",
              "    </tr>\n",
              "    <tr>\n",
              "      <th>std</th>\n",
              "      <td>23.322453</td>\n",
              "      <td>6.860353</td>\n",
              "      <td>0.253994</td>\n",
              "      <td>0.115878</td>\n",
              "      <td>0.702617</td>\n",
              "      <td>28.148861</td>\n",
              "      <td>2.105710</td>\n",
              "      <td>8.707259</td>\n",
              "      <td>168.537116</td>\n",
              "      <td>2.164946</td>\n",
              "      <td>7.141062</td>\n",
              "      <td>0.372456</td>\n",
              "    </tr>\n",
              "    <tr>\n",
              "      <th>min</th>\n",
              "      <td>0.000000</td>\n",
              "      <td>0.460000</td>\n",
              "      <td>0.000000</td>\n",
              "      <td>0.385000</td>\n",
              "      <td>3.561000</td>\n",
              "      <td>2.900000</td>\n",
              "      <td>1.129600</td>\n",
              "      <td>1.000000</td>\n",
              "      <td>187.000000</td>\n",
              "      <td>12.600000</td>\n",
              "      <td>1.730000</td>\n",
              "      <td>0.000000</td>\n",
              "    </tr>\n",
              "    <tr>\n",
              "      <th>25%</th>\n",
              "      <td>0.000000</td>\n",
              "      <td>5.190000</td>\n",
              "      <td>0.000000</td>\n",
              "      <td>0.449000</td>\n",
              "      <td>5.885500</td>\n",
              "      <td>45.025000</td>\n",
              "      <td>2.100175</td>\n",
              "      <td>4.000000</td>\n",
              "      <td>279.000000</td>\n",
              "      <td>17.400000</td>\n",
              "      <td>6.950000</td>\n",
              "      <td>0.000000</td>\n",
              "    </tr>\n",
              "    <tr>\n",
              "      <th>50%</th>\n",
              "      <td>0.000000</td>\n",
              "      <td>9.690000</td>\n",
              "      <td>0.000000</td>\n",
              "      <td>0.538000</td>\n",
              "      <td>6.208500</td>\n",
              "      <td>77.500000</td>\n",
              "      <td>3.207450</td>\n",
              "      <td>5.000000</td>\n",
              "      <td>330.000000</td>\n",
              "      <td>19.050000</td>\n",
              "      <td>11.360000</td>\n",
              "      <td>0.000000</td>\n",
              "    </tr>\n",
              "    <tr>\n",
              "      <th>75%</th>\n",
              "      <td>12.500000</td>\n",
              "      <td>18.100000</td>\n",
              "      <td>0.000000</td>\n",
              "      <td>0.624000</td>\n",
              "      <td>6.623500</td>\n",
              "      <td>94.075000</td>\n",
              "      <td>5.188425</td>\n",
              "      <td>24.000000</td>\n",
              "      <td>666.000000</td>\n",
              "      <td>20.200000</td>\n",
              "      <td>16.955000</td>\n",
              "      <td>0.000000</td>\n",
              "    </tr>\n",
              "    <tr>\n",
              "      <th>max</th>\n",
              "      <td>100.000000</td>\n",
              "      <td>27.740000</td>\n",
              "      <td>1.000000</td>\n",
              "      <td>0.871000</td>\n",
              "      <td>8.780000</td>\n",
              "      <td>100.000000</td>\n",
              "      <td>12.126500</td>\n",
              "      <td>24.000000</td>\n",
              "      <td>711.000000</td>\n",
              "      <td>22.000000</td>\n",
              "      <td>37.970000</td>\n",
              "      <td>1.000000</td>\n",
              "    </tr>\n",
              "  </tbody>\n",
              "</table>\n",
              "</div>\n",
              "      <button class=\"colab-df-convert\" onclick=\"convertToInteractive('df-fed52805-eb55-4649-9f7d-cb02e56be386')\"\n",
              "              title=\"Convert this dataframe to an interactive table.\"\n",
              "              style=\"display:none;\">\n",
              "        \n",
              "  <svg xmlns=\"http://www.w3.org/2000/svg\" height=\"24px\"viewBox=\"0 0 24 24\"\n",
              "       width=\"24px\">\n",
              "    <path d=\"M0 0h24v24H0V0z\" fill=\"none\"/>\n",
              "    <path d=\"M18.56 5.44l.94 2.06.94-2.06 2.06-.94-2.06-.94-.94-2.06-.94 2.06-2.06.94zm-11 1L8.5 8.5l.94-2.06 2.06-.94-2.06-.94L8.5 2.5l-.94 2.06-2.06.94zm10 10l.94 2.06.94-2.06 2.06-.94-2.06-.94-.94-2.06-.94 2.06-2.06.94z\"/><path d=\"M17.41 7.96l-1.37-1.37c-.4-.4-.92-.59-1.43-.59-.52 0-1.04.2-1.43.59L10.3 9.45l-7.72 7.72c-.78.78-.78 2.05 0 2.83L4 21.41c.39.39.9.59 1.41.59.51 0 1.02-.2 1.41-.59l7.78-7.78 2.81-2.81c.8-.78.8-2.07 0-2.86zM5.41 20L4 18.59l7.72-7.72 1.47 1.35L5.41 20z\"/>\n",
              "  </svg>\n",
              "      </button>\n",
              "      \n",
              "  <style>\n",
              "    .colab-df-container {\n",
              "      display:flex;\n",
              "      flex-wrap:wrap;\n",
              "      gap: 12px;\n",
              "    }\n",
              "\n",
              "    .colab-df-convert {\n",
              "      background-color: #E8F0FE;\n",
              "      border: none;\n",
              "      border-radius: 50%;\n",
              "      cursor: pointer;\n",
              "      display: none;\n",
              "      fill: #1967D2;\n",
              "      height: 32px;\n",
              "      padding: 0 0 0 0;\n",
              "      width: 32px;\n",
              "    }\n",
              "\n",
              "    .colab-df-convert:hover {\n",
              "      background-color: #E2EBFA;\n",
              "      box-shadow: 0px 1px 2px rgba(60, 64, 67, 0.3), 0px 1px 3px 1px rgba(60, 64, 67, 0.15);\n",
              "      fill: #174EA6;\n",
              "    }\n",
              "\n",
              "    [theme=dark] .colab-df-convert {\n",
              "      background-color: #3B4455;\n",
              "      fill: #D2E3FC;\n",
              "    }\n",
              "\n",
              "    [theme=dark] .colab-df-convert:hover {\n",
              "      background-color: #434B5C;\n",
              "      box-shadow: 0px 1px 3px 1px rgba(0, 0, 0, 0.15);\n",
              "      filter: drop-shadow(0px 1px 2px rgba(0, 0, 0, 0.3));\n",
              "      fill: #FFFFFF;\n",
              "    }\n",
              "  </style>\n",
              "\n",
              "      <script>\n",
              "        const buttonEl =\n",
              "          document.querySelector('#df-fed52805-eb55-4649-9f7d-cb02e56be386 button.colab-df-convert');\n",
              "        buttonEl.style.display =\n",
              "          google.colab.kernel.accessAllowed ? 'block' : 'none';\n",
              "\n",
              "        async function convertToInteractive(key) {\n",
              "          const element = document.querySelector('#df-fed52805-eb55-4649-9f7d-cb02e56be386');\n",
              "          const dataTable =\n",
              "            await google.colab.kernel.invokeFunction('convertToInteractive',\n",
              "                                                     [key], {});\n",
              "          if (!dataTable) return;\n",
              "\n",
              "          const docLinkHtml = 'Like what you see? Visit the ' +\n",
              "            '<a target=\"_blank\" href=https://colab.research.google.com/notebooks/data_table.ipynb>data table notebook</a>'\n",
              "            + ' to learn more about interactive tables.';\n",
              "          element.innerHTML = '';\n",
              "          dataTable['output_type'] = 'display_data';\n",
              "          await google.colab.output.renderOutput(dataTable, element);\n",
              "          const docLink = document.createElement('div');\n",
              "          docLink.innerHTML = docLinkHtml;\n",
              "          element.appendChild(docLink);\n",
              "        }\n",
              "      </script>\n",
              "    </div>\n",
              "  </div>\n",
              "  "
            ]
          },
          "metadata": {},
          "execution_count": 3
        }
      ]
    },
    {
      "cell_type": "code",
      "source": [
        "from sklearn.model_selection import train_test_split\n"
      ],
      "metadata": {
        "id": "BhZ1tjl0r2QW"
      },
      "execution_count": 6,
      "outputs": []
    },
    {
      "cell_type": "code",
      "source": [
        "dfGW.head()"
      ],
      "metadata": {
        "colab": {
          "base_uri": "https://localhost:8080/",
          "height": 238
        },
        "id": "69F-XLI1tm47",
        "outputId": "492b602d-a5ae-4933-bcfa-48394aad19df"
      },
      "execution_count": 10,
      "outputs": [
        {
          "output_type": "execute_result",
          "data": {
            "text/plain": [
              "           ZN  INDUS  CHAS    NOX     RM   AGE     DIS  RAD  TAX  PTRATIO  \\\n",
              "CRIM                                                                        \n",
              "0.00632  18.0   2.31     0  0.538  6.575  65.2  4.0900    1  296     15.3   \n",
              "0.02731   0.0   7.07     0  0.469  6.421  78.9  4.9671    2  242     17.8   \n",
              "0.02729   0.0   7.07     0  0.469  7.185  61.1  4.9671    2  242     17.8   \n",
              "0.03237   0.0   2.18     0  0.458  6.998  45.8  6.0622    3  222     18.7   \n",
              "0.06905   0.0   2.18     0  0.458  7.147  54.2  6.0622    3  222     18.7   \n",
              "\n",
              "         LSTAT  CAT. MEDV  \n",
              "CRIM                       \n",
              "0.00632   4.98          0  \n",
              "0.02731   9.14          0  \n",
              "0.02729   4.03          1  \n",
              "0.03237   2.94          1  \n",
              "0.06905   5.33          1  "
            ],
            "text/html": [
              "\n",
              "  <div id=\"df-38aa5106-5f9b-47d3-9d63-bbf58e3f0544\">\n",
              "    <div class=\"colab-df-container\">\n",
              "      <div>\n",
              "<style scoped>\n",
              "    .dataframe tbody tr th:only-of-type {\n",
              "        vertical-align: middle;\n",
              "    }\n",
              "\n",
              "    .dataframe tbody tr th {\n",
              "        vertical-align: top;\n",
              "    }\n",
              "\n",
              "    .dataframe thead th {\n",
              "        text-align: right;\n",
              "    }\n",
              "</style>\n",
              "<table border=\"1\" class=\"dataframe\">\n",
              "  <thead>\n",
              "    <tr style=\"text-align: right;\">\n",
              "      <th></th>\n",
              "      <th>ZN</th>\n",
              "      <th>INDUS</th>\n",
              "      <th>CHAS</th>\n",
              "      <th>NOX</th>\n",
              "      <th>RM</th>\n",
              "      <th>AGE</th>\n",
              "      <th>DIS</th>\n",
              "      <th>RAD</th>\n",
              "      <th>TAX</th>\n",
              "      <th>PTRATIO</th>\n",
              "      <th>LSTAT</th>\n",
              "      <th>CAT. MEDV</th>\n",
              "    </tr>\n",
              "    <tr>\n",
              "      <th>CRIM</th>\n",
              "      <th></th>\n",
              "      <th></th>\n",
              "      <th></th>\n",
              "      <th></th>\n",
              "      <th></th>\n",
              "      <th></th>\n",
              "      <th></th>\n",
              "      <th></th>\n",
              "      <th></th>\n",
              "      <th></th>\n",
              "      <th></th>\n",
              "      <th></th>\n",
              "    </tr>\n",
              "  </thead>\n",
              "  <tbody>\n",
              "    <tr>\n",
              "      <th>0.00632</th>\n",
              "      <td>18.0</td>\n",
              "      <td>2.31</td>\n",
              "      <td>0</td>\n",
              "      <td>0.538</td>\n",
              "      <td>6.575</td>\n",
              "      <td>65.2</td>\n",
              "      <td>4.0900</td>\n",
              "      <td>1</td>\n",
              "      <td>296</td>\n",
              "      <td>15.3</td>\n",
              "      <td>4.98</td>\n",
              "      <td>0</td>\n",
              "    </tr>\n",
              "    <tr>\n",
              "      <th>0.02731</th>\n",
              "      <td>0.0</td>\n",
              "      <td>7.07</td>\n",
              "      <td>0</td>\n",
              "      <td>0.469</td>\n",
              "      <td>6.421</td>\n",
              "      <td>78.9</td>\n",
              "      <td>4.9671</td>\n",
              "      <td>2</td>\n",
              "      <td>242</td>\n",
              "      <td>17.8</td>\n",
              "      <td>9.14</td>\n",
              "      <td>0</td>\n",
              "    </tr>\n",
              "    <tr>\n",
              "      <th>0.02729</th>\n",
              "      <td>0.0</td>\n",
              "      <td>7.07</td>\n",
              "      <td>0</td>\n",
              "      <td>0.469</td>\n",
              "      <td>7.185</td>\n",
              "      <td>61.1</td>\n",
              "      <td>4.9671</td>\n",
              "      <td>2</td>\n",
              "      <td>242</td>\n",
              "      <td>17.8</td>\n",
              "      <td>4.03</td>\n",
              "      <td>1</td>\n",
              "    </tr>\n",
              "    <tr>\n",
              "      <th>0.03237</th>\n",
              "      <td>0.0</td>\n",
              "      <td>2.18</td>\n",
              "      <td>0</td>\n",
              "      <td>0.458</td>\n",
              "      <td>6.998</td>\n",
              "      <td>45.8</td>\n",
              "      <td>6.0622</td>\n",
              "      <td>3</td>\n",
              "      <td>222</td>\n",
              "      <td>18.7</td>\n",
              "      <td>2.94</td>\n",
              "      <td>1</td>\n",
              "    </tr>\n",
              "    <tr>\n",
              "      <th>0.06905</th>\n",
              "      <td>0.0</td>\n",
              "      <td>2.18</td>\n",
              "      <td>0</td>\n",
              "      <td>0.458</td>\n",
              "      <td>7.147</td>\n",
              "      <td>54.2</td>\n",
              "      <td>6.0622</td>\n",
              "      <td>3</td>\n",
              "      <td>222</td>\n",
              "      <td>18.7</td>\n",
              "      <td>5.33</td>\n",
              "      <td>1</td>\n",
              "    </tr>\n",
              "  </tbody>\n",
              "</table>\n",
              "</div>\n",
              "      <button class=\"colab-df-convert\" onclick=\"convertToInteractive('df-38aa5106-5f9b-47d3-9d63-bbf58e3f0544')\"\n",
              "              title=\"Convert this dataframe to an interactive table.\"\n",
              "              style=\"display:none;\">\n",
              "        \n",
              "  <svg xmlns=\"http://www.w3.org/2000/svg\" height=\"24px\"viewBox=\"0 0 24 24\"\n",
              "       width=\"24px\">\n",
              "    <path d=\"M0 0h24v24H0V0z\" fill=\"none\"/>\n",
              "    <path d=\"M18.56 5.44l.94 2.06.94-2.06 2.06-.94-2.06-.94-.94-2.06-.94 2.06-2.06.94zm-11 1L8.5 8.5l.94-2.06 2.06-.94-2.06-.94L8.5 2.5l-.94 2.06-2.06.94zm10 10l.94 2.06.94-2.06 2.06-.94-2.06-.94-.94-2.06-.94 2.06-2.06.94z\"/><path d=\"M17.41 7.96l-1.37-1.37c-.4-.4-.92-.59-1.43-.59-.52 0-1.04.2-1.43.59L10.3 9.45l-7.72 7.72c-.78.78-.78 2.05 0 2.83L4 21.41c.39.39.9.59 1.41.59.51 0 1.02-.2 1.41-.59l7.78-7.78 2.81-2.81c.8-.78.8-2.07 0-2.86zM5.41 20L4 18.59l7.72-7.72 1.47 1.35L5.41 20z\"/>\n",
              "  </svg>\n",
              "      </button>\n",
              "      \n",
              "  <style>\n",
              "    .colab-df-container {\n",
              "      display:flex;\n",
              "      flex-wrap:wrap;\n",
              "      gap: 12px;\n",
              "    }\n",
              "\n",
              "    .colab-df-convert {\n",
              "      background-color: #E8F0FE;\n",
              "      border: none;\n",
              "      border-radius: 50%;\n",
              "      cursor: pointer;\n",
              "      display: none;\n",
              "      fill: #1967D2;\n",
              "      height: 32px;\n",
              "      padding: 0 0 0 0;\n",
              "      width: 32px;\n",
              "    }\n",
              "\n",
              "    .colab-df-convert:hover {\n",
              "      background-color: #E2EBFA;\n",
              "      box-shadow: 0px 1px 2px rgba(60, 64, 67, 0.3), 0px 1px 3px 1px rgba(60, 64, 67, 0.15);\n",
              "      fill: #174EA6;\n",
              "    }\n",
              "\n",
              "    [theme=dark] .colab-df-convert {\n",
              "      background-color: #3B4455;\n",
              "      fill: #D2E3FC;\n",
              "    }\n",
              "\n",
              "    [theme=dark] .colab-df-convert:hover {\n",
              "      background-color: #434B5C;\n",
              "      box-shadow: 0px 1px 3px 1px rgba(0, 0, 0, 0.15);\n",
              "      filter: drop-shadow(0px 1px 2px rgba(0, 0, 0, 0.3));\n",
              "      fill: #FFFFFF;\n",
              "    }\n",
              "  </style>\n",
              "\n",
              "      <script>\n",
              "        const buttonEl =\n",
              "          document.querySelector('#df-38aa5106-5f9b-47d3-9d63-bbf58e3f0544 button.colab-df-convert');\n",
              "        buttonEl.style.display =\n",
              "          google.colab.kernel.accessAllowed ? 'block' : 'none';\n",
              "\n",
              "        async function convertToInteractive(key) {\n",
              "          const element = document.querySelector('#df-38aa5106-5f9b-47d3-9d63-bbf58e3f0544');\n",
              "          const dataTable =\n",
              "            await google.colab.kernel.invokeFunction('convertToInteractive',\n",
              "                                                     [key], {});\n",
              "          if (!dataTable) return;\n",
              "\n",
              "          const docLinkHtml = 'Like what you see? Visit the ' +\n",
              "            '<a target=\"_blank\" href=https://colab.research.google.com/notebooks/data_table.ipynb>data table notebook</a>'\n",
              "            + ' to learn more about interactive tables.';\n",
              "          element.innerHTML = '';\n",
              "          dataTable['output_type'] = 'display_data';\n",
              "          await google.colab.output.renderOutput(dataTable, element);\n",
              "          const docLink = document.createElement('div');\n",
              "          docLink.innerHTML = docLinkHtml;\n",
              "          element.appendChild(docLink);\n",
              "        }\n",
              "      </script>\n",
              "    </div>\n",
              "  </div>\n",
              "  "
            ]
          },
          "metadata": {},
          "execution_count": 10
        }
      ]
    },
    {
      "cell_type": "code",
      "source": [
        "y =dfGW['CAT. MEDV']\n",
        "X =dfGW.drop('CAT. MEDV',axis=1)\n",
        "\n",
        "X_train, X_val, y_train, y_val = train_test_split(X,y,test_size=0.3,random_state=0)"
      ],
      "metadata": {
        "id": "CDdHXRnMtVwC"
      },
      "execution_count": 11,
      "outputs": []
    },
    {
      "cell_type": "code",
      "source": [
        "from sklearn.ensemble import RandomForestClassifier\n",
        "\n",
        "rfGW = RandomForestClassifier(random_state=0) #n_estimator = 100(default)\n",
        "\n",
        "rfGW.fit(X_train,y_train)"
      ],
      "metadata": {
        "colab": {
          "base_uri": "https://localhost:8080/",
          "height": 75
        },
        "id": "mQNBhoriuEyX",
        "outputId": "67b4e5dd-7008-45aa-a884-2e42156b5c30"
      },
      "execution_count": 13,
      "outputs": [
        {
          "output_type": "execute_result",
          "data": {
            "text/plain": [
              "RandomForestClassifier(random_state=0)"
            ],
            "text/html": [
              "<style>#sk-container-id-2 {color: black;background-color: white;}#sk-container-id-2 pre{padding: 0;}#sk-container-id-2 div.sk-toggleable {background-color: white;}#sk-container-id-2 label.sk-toggleable__label {cursor: pointer;display: block;width: 100%;margin-bottom: 0;padding: 0.3em;box-sizing: border-box;text-align: center;}#sk-container-id-2 label.sk-toggleable__label-arrow:before {content: \"▸\";float: left;margin-right: 0.25em;color: #696969;}#sk-container-id-2 label.sk-toggleable__label-arrow:hover:before {color: black;}#sk-container-id-2 div.sk-estimator:hover label.sk-toggleable__label-arrow:before {color: black;}#sk-container-id-2 div.sk-toggleable__content {max-height: 0;max-width: 0;overflow: hidden;text-align: left;background-color: #f0f8ff;}#sk-container-id-2 div.sk-toggleable__content pre {margin: 0.2em;color: black;border-radius: 0.25em;background-color: #f0f8ff;}#sk-container-id-2 input.sk-toggleable__control:checked~div.sk-toggleable__content {max-height: 200px;max-width: 100%;overflow: auto;}#sk-container-id-2 input.sk-toggleable__control:checked~label.sk-toggleable__label-arrow:before {content: \"▾\";}#sk-container-id-2 div.sk-estimator input.sk-toggleable__control:checked~label.sk-toggleable__label {background-color: #d4ebff;}#sk-container-id-2 div.sk-label input.sk-toggleable__control:checked~label.sk-toggleable__label {background-color: #d4ebff;}#sk-container-id-2 input.sk-hidden--visually {border: 0;clip: rect(1px 1px 1px 1px);clip: rect(1px, 1px, 1px, 1px);height: 1px;margin: -1px;overflow: hidden;padding: 0;position: absolute;width: 1px;}#sk-container-id-2 div.sk-estimator {font-family: monospace;background-color: #f0f8ff;border: 1px dotted black;border-radius: 0.25em;box-sizing: border-box;margin-bottom: 0.5em;}#sk-container-id-2 div.sk-estimator:hover {background-color: #d4ebff;}#sk-container-id-2 div.sk-parallel-item::after {content: \"\";width: 100%;border-bottom: 1px solid gray;flex-grow: 1;}#sk-container-id-2 div.sk-label:hover label.sk-toggleable__label {background-color: #d4ebff;}#sk-container-id-2 div.sk-serial::before {content: \"\";position: absolute;border-left: 1px solid gray;box-sizing: border-box;top: 0;bottom: 0;left: 50%;z-index: 0;}#sk-container-id-2 div.sk-serial {display: flex;flex-direction: column;align-items: center;background-color: white;padding-right: 0.2em;padding-left: 0.2em;position: relative;}#sk-container-id-2 div.sk-item {position: relative;z-index: 1;}#sk-container-id-2 div.sk-parallel {display: flex;align-items: stretch;justify-content: center;background-color: white;position: relative;}#sk-container-id-2 div.sk-item::before, #sk-container-id-2 div.sk-parallel-item::before {content: \"\";position: absolute;border-left: 1px solid gray;box-sizing: border-box;top: 0;bottom: 0;left: 50%;z-index: -1;}#sk-container-id-2 div.sk-parallel-item {display: flex;flex-direction: column;z-index: 1;position: relative;background-color: white;}#sk-container-id-2 div.sk-parallel-item:first-child::after {align-self: flex-end;width: 50%;}#sk-container-id-2 div.sk-parallel-item:last-child::after {align-self: flex-start;width: 50%;}#sk-container-id-2 div.sk-parallel-item:only-child::after {width: 0;}#sk-container-id-2 div.sk-dashed-wrapped {border: 1px dashed gray;margin: 0 0.4em 0.5em 0.4em;box-sizing: border-box;padding-bottom: 0.4em;background-color: white;}#sk-container-id-2 div.sk-label label {font-family: monospace;font-weight: bold;display: inline-block;line-height: 1.2em;}#sk-container-id-2 div.sk-label-container {text-align: center;}#sk-container-id-2 div.sk-container {/* jupyter's `normalize.less` sets `[hidden] { display: none; }` but bootstrap.min.css set `[hidden] { display: none !important; }` so we also need the `!important` here to be able to override the default hidden behavior on the sphinx rendered scikit-learn.org. See: https://github.com/scikit-learn/scikit-learn/issues/21755 */display: inline-block !important;position: relative;}#sk-container-id-2 div.sk-text-repr-fallback {display: none;}</style><div id=\"sk-container-id-2\" class=\"sk-top-container\"><div class=\"sk-text-repr-fallback\"><pre>RandomForestClassifier(random_state=0)</pre><b>In a Jupyter environment, please rerun this cell to show the HTML representation or trust the notebook. <br />On GitHub, the HTML representation is unable to render, please try loading this page with nbviewer.org.</b></div><div class=\"sk-container\" hidden><div class=\"sk-item\"><div class=\"sk-estimator sk-toggleable\"><input class=\"sk-toggleable__control sk-hidden--visually\" id=\"sk-estimator-id-2\" type=\"checkbox\" checked><label for=\"sk-estimator-id-2\" class=\"sk-toggleable__label sk-toggleable__label-arrow\">RandomForestClassifier</label><div class=\"sk-toggleable__content\"><pre>RandomForestClassifier(random_state=0)</pre></div></div></div></div></div>"
            ]
          },
          "metadata": {},
          "execution_count": 13
        }
      ]
    },
    {
      "cell_type": "code",
      "source": [
        "rfGW.score(X_val,y_val)"
      ],
      "metadata": {
        "colab": {
          "base_uri": "https://localhost:8080/"
        },
        "id": "EGpGIhMUuUD4",
        "outputId": "5d26f8da-70ee-450e-f75f-e980f5b05ca7"
      },
      "execution_count": 14,
      "outputs": [
        {
          "output_type": "execute_result",
          "data": {
            "text/plain": [
              "0.9736842105263158"
            ]
          },
          "metadata": {},
          "execution_count": 14
        }
      ]
    },
    {
      "cell_type": "code",
      "source": [
        "X.shape"
      ],
      "metadata": {
        "colab": {
          "base_uri": "https://localhost:8080/"
        },
        "id": "P3UGQLDquaVw",
        "outputId": "a8be7c92-a822-4d12-b7ed-b473e65dd0d8"
      },
      "execution_count": 15,
      "outputs": [
        {
          "output_type": "execute_result",
          "data": {
            "text/plain": [
              "(506, 11)"
            ]
          },
          "metadata": {},
          "execution_count": 15
        }
      ]
    },
    {
      "cell_type": "code",
      "source": [
        "from sklearn.model_selection import GridSearchCV # parameter tuning\n",
        "import numpy as np\n",
        "\n",
        "param = {\n",
        "    'n_estimators': [50,100], #number of trees\n",
        "    'max_features': range(1,17) #number of mtrees\n",
        "}\n",
        "\n",
        "rfgw2 = RandomForestClassifier(random_state=0)\n",
        "\n",
        "grid_search = GridSearchCV(estimator=rfgw2,\n",
        "                           param_grid=param, n_jobs=-1)\n",
        "grid_search.fit(X_train,y_train)"
      ],
      "metadata": {
        "colab": {
          "base_uri": "https://localhost:8080/",
          "height": 198
        },
        "id": "-VYcA_yKuc3N",
        "outputId": "a694db5f-3ba8-4f57-8c9e-43fa557c91a0"
      },
      "execution_count": 16,
      "outputs": [
        {
          "output_type": "execute_result",
          "data": {
            "text/plain": [
              "GridSearchCV(estimator=RandomForestClassifier(random_state=0), n_jobs=-1,\n",
              "             param_grid={'max_features': range(1, 17),\n",
              "                         'n_estimators': [50, 100]})"
            ],
            "text/html": [
              "<style>#sk-container-id-3 {color: black;background-color: white;}#sk-container-id-3 pre{padding: 0;}#sk-container-id-3 div.sk-toggleable {background-color: white;}#sk-container-id-3 label.sk-toggleable__label {cursor: pointer;display: block;width: 100%;margin-bottom: 0;padding: 0.3em;box-sizing: border-box;text-align: center;}#sk-container-id-3 label.sk-toggleable__label-arrow:before {content: \"▸\";float: left;margin-right: 0.25em;color: #696969;}#sk-container-id-3 label.sk-toggleable__label-arrow:hover:before {color: black;}#sk-container-id-3 div.sk-estimator:hover label.sk-toggleable__label-arrow:before {color: black;}#sk-container-id-3 div.sk-toggleable__content {max-height: 0;max-width: 0;overflow: hidden;text-align: left;background-color: #f0f8ff;}#sk-container-id-3 div.sk-toggleable__content pre {margin: 0.2em;color: black;border-radius: 0.25em;background-color: #f0f8ff;}#sk-container-id-3 input.sk-toggleable__control:checked~div.sk-toggleable__content {max-height: 200px;max-width: 100%;overflow: auto;}#sk-container-id-3 input.sk-toggleable__control:checked~label.sk-toggleable__label-arrow:before {content: \"▾\";}#sk-container-id-3 div.sk-estimator input.sk-toggleable__control:checked~label.sk-toggleable__label {background-color: #d4ebff;}#sk-container-id-3 div.sk-label input.sk-toggleable__control:checked~label.sk-toggleable__label {background-color: #d4ebff;}#sk-container-id-3 input.sk-hidden--visually {border: 0;clip: rect(1px 1px 1px 1px);clip: rect(1px, 1px, 1px, 1px);height: 1px;margin: -1px;overflow: hidden;padding: 0;position: absolute;width: 1px;}#sk-container-id-3 div.sk-estimator {font-family: monospace;background-color: #f0f8ff;border: 1px dotted black;border-radius: 0.25em;box-sizing: border-box;margin-bottom: 0.5em;}#sk-container-id-3 div.sk-estimator:hover {background-color: #d4ebff;}#sk-container-id-3 div.sk-parallel-item::after {content: \"\";width: 100%;border-bottom: 1px solid gray;flex-grow: 1;}#sk-container-id-3 div.sk-label:hover label.sk-toggleable__label {background-color: #d4ebff;}#sk-container-id-3 div.sk-serial::before {content: \"\";position: absolute;border-left: 1px solid gray;box-sizing: border-box;top: 0;bottom: 0;left: 50%;z-index: 0;}#sk-container-id-3 div.sk-serial {display: flex;flex-direction: column;align-items: center;background-color: white;padding-right: 0.2em;padding-left: 0.2em;position: relative;}#sk-container-id-3 div.sk-item {position: relative;z-index: 1;}#sk-container-id-3 div.sk-parallel {display: flex;align-items: stretch;justify-content: center;background-color: white;position: relative;}#sk-container-id-3 div.sk-item::before, #sk-container-id-3 div.sk-parallel-item::before {content: \"\";position: absolute;border-left: 1px solid gray;box-sizing: border-box;top: 0;bottom: 0;left: 50%;z-index: -1;}#sk-container-id-3 div.sk-parallel-item {display: flex;flex-direction: column;z-index: 1;position: relative;background-color: white;}#sk-container-id-3 div.sk-parallel-item:first-child::after {align-self: flex-end;width: 50%;}#sk-container-id-3 div.sk-parallel-item:last-child::after {align-self: flex-start;width: 50%;}#sk-container-id-3 div.sk-parallel-item:only-child::after {width: 0;}#sk-container-id-3 div.sk-dashed-wrapped {border: 1px dashed gray;margin: 0 0.4em 0.5em 0.4em;box-sizing: border-box;padding-bottom: 0.4em;background-color: white;}#sk-container-id-3 div.sk-label label {font-family: monospace;font-weight: bold;display: inline-block;line-height: 1.2em;}#sk-container-id-3 div.sk-label-container {text-align: center;}#sk-container-id-3 div.sk-container {/* jupyter's `normalize.less` sets `[hidden] { display: none; }` but bootstrap.min.css set `[hidden] { display: none !important; }` so we also need the `!important` here to be able to override the default hidden behavior on the sphinx rendered scikit-learn.org. See: https://github.com/scikit-learn/scikit-learn/issues/21755 */display: inline-block !important;position: relative;}#sk-container-id-3 div.sk-text-repr-fallback {display: none;}</style><div id=\"sk-container-id-3\" class=\"sk-top-container\"><div class=\"sk-text-repr-fallback\"><pre>GridSearchCV(estimator=RandomForestClassifier(random_state=0), n_jobs=-1,\n",
              "             param_grid={&#x27;max_features&#x27;: range(1, 17),\n",
              "                         &#x27;n_estimators&#x27;: [50, 100]})</pre><b>In a Jupyter environment, please rerun this cell to show the HTML representation or trust the notebook. <br />On GitHub, the HTML representation is unable to render, please try loading this page with nbviewer.org.</b></div><div class=\"sk-container\" hidden><div class=\"sk-item sk-dashed-wrapped\"><div class=\"sk-label-container\"><div class=\"sk-label sk-toggleable\"><input class=\"sk-toggleable__control sk-hidden--visually\" id=\"sk-estimator-id-3\" type=\"checkbox\" ><label for=\"sk-estimator-id-3\" class=\"sk-toggleable__label sk-toggleable__label-arrow\">GridSearchCV</label><div class=\"sk-toggleable__content\"><pre>GridSearchCV(estimator=RandomForestClassifier(random_state=0), n_jobs=-1,\n",
              "             param_grid={&#x27;max_features&#x27;: range(1, 17),\n",
              "                         &#x27;n_estimators&#x27;: [50, 100]})</pre></div></div></div><div class=\"sk-parallel\"><div class=\"sk-parallel-item\"><div class=\"sk-item\"><div class=\"sk-label-container\"><div class=\"sk-label sk-toggleable\"><input class=\"sk-toggleable__control sk-hidden--visually\" id=\"sk-estimator-id-4\" type=\"checkbox\" ><label for=\"sk-estimator-id-4\" class=\"sk-toggleable__label sk-toggleable__label-arrow\">estimator: RandomForestClassifier</label><div class=\"sk-toggleable__content\"><pre>RandomForestClassifier(random_state=0)</pre></div></div></div><div class=\"sk-serial\"><div class=\"sk-item\"><div class=\"sk-estimator sk-toggleable\"><input class=\"sk-toggleable__control sk-hidden--visually\" id=\"sk-estimator-id-5\" type=\"checkbox\" ><label for=\"sk-estimator-id-5\" class=\"sk-toggleable__label sk-toggleable__label-arrow\">RandomForestClassifier</label><div class=\"sk-toggleable__content\"><pre>RandomForestClassifier(random_state=0)</pre></div></div></div></div></div></div></div></div></div></div>"
            ]
          },
          "metadata": {},
          "execution_count": 16
        }
      ]
    },
    {
      "cell_type": "code",
      "source": [
        "grid_search.best_params_"
      ],
      "metadata": {
        "colab": {
          "base_uri": "https://localhost:8080/"
        },
        "id": "x_MYP0BIuzBI",
        "outputId": "d6ab7898-9e7c-4216-85b1-91c45a3210fe"
      },
      "execution_count": 17,
      "outputs": [
        {
          "output_type": "execute_result",
          "data": {
            "text/plain": [
              "{'max_features': 4, 'n_estimators': 100}"
            ]
          },
          "metadata": {},
          "execution_count": 17
        }
      ]
    },
    {
      "cell_type": "code",
      "source": [
        "grid_search.best_score_"
      ],
      "metadata": {
        "colab": {
          "base_uri": "https://localhost:8080/"
        },
        "id": "mRIZzj6qu2G_",
        "outputId": "8c2a34f4-f3b9-47a0-8533-b28bf5eacb9e"
      },
      "execution_count": 18,
      "outputs": [
        {
          "output_type": "execute_result",
          "data": {
            "text/plain": [
              "0.974486921529175"
            ]
          },
          "metadata": {},
          "execution_count": 18
        }
      ]
    },
    {
      "cell_type": "code",
      "source": [
        "grid_search.score(X_val,y_val)"
      ],
      "metadata": {
        "colab": {
          "base_uri": "https://localhost:8080/"
        },
        "id": "vtb3cu_ou5iI",
        "outputId": "1ff77216-c8fc-4135-d965-ba4d4544f090"
      },
      "execution_count": 19,
      "outputs": [
        {
          "output_type": "execute_result",
          "data": {
            "text/plain": [
              "0.9736842105263158"
            ]
          },
          "metadata": {},
          "execution_count": 19
        }
      ]
    },
    {
      "cell_type": "code",
      "source": [
        "final_model = grid_search.best_estimator_\n",
        "\n",
        "# feature importance\n",
        "\n",
        "feature_imp = pd.Series(final_model.feature_importances_,\n",
        "                        index=X.columns).sort_values(ascending=False)\n",
        "\n",
        "feature_imp"
      ],
      "metadata": {
        "colab": {
          "base_uri": "https://localhost:8080/"
        },
        "id": "uDypqCMkvR3I",
        "outputId": "c5b13e20-ad13-4e2e-996d-84d622a6648c"
      },
      "execution_count": 21,
      "outputs": [
        {
          "output_type": "execute_result",
          "data": {
            "text/plain": [
              "RM         0.403638\n",
              "LSTAT      0.241573\n",
              "INDUS      0.091480\n",
              "PTRATIO    0.079843\n",
              "TAX        0.042676\n",
              "DIS        0.038646\n",
              "AGE        0.032485\n",
              "NOX        0.026193\n",
              "ZN         0.024317\n",
              "RAD        0.015460\n",
              "CHAS       0.003689\n",
              "dtype: float64"
            ]
          },
          "metadata": {},
          "execution_count": 21
        }
      ]
    },
    {
      "cell_type": "code",
      "source": [
        "final_model.feature_importances_"
      ],
      "metadata": {
        "colab": {
          "base_uri": "https://localhost:8080/"
        },
        "id": "yKTNcU_ou6xV",
        "outputId": "869322a8-1c5f-4af6-cdfb-e584dc94c495"
      },
      "execution_count": 22,
      "outputs": [
        {
          "output_type": "execute_result",
          "data": {
            "text/plain": [
              "array([0.02431671, 0.09148005, 0.00368922, 0.02619332, 0.40363784,\n",
              "       0.03248536, 0.03864572, 0.01546037, 0.04267615, 0.07984263,\n",
              "       0.24157263])"
            ]
          },
          "metadata": {},
          "execution_count": 22
        }
      ]
    },
    {
      "cell_type": "code",
      "source": [
        "from sklearn.metrics import confusion_matrix\n",
        "\n",
        "prediction = rfGW.predict(X_val)\n",
        "\n",
        "confusion_matrix(y_val, prediction)"
      ],
      "metadata": {
        "colab": {
          "base_uri": "https://localhost:8080/"
        },
        "id": "e1HSvepJu8rZ",
        "outputId": "929a97b5-6d27-41e5-c0bc-78f98b5e8965"
      },
      "execution_count": 25,
      "outputs": [
        {
          "output_type": "execute_result",
          "data": {
            "text/plain": [
              "array([[129,   2],\n",
              "       [  2,  19]])"
            ]
          },
          "metadata": {},
          "execution_count": 25
        }
      ]
    },
    {
      "cell_type": "code",
      "source": [
        "rfGW.score(X_val,y_val)"
      ],
      "metadata": {
        "colab": {
          "base_uri": "https://localhost:8080/"
        },
        "id": "i9fT8AVpzRI_",
        "outputId": "c3a89a31-ca6f-4f8c-a283-54b6dd7d679a"
      },
      "execution_count": 26,
      "outputs": [
        {
          "output_type": "execute_result",
          "data": {
            "text/plain": [
              "0.9736842105263158"
            ]
          },
          "metadata": {},
          "execution_count": 26
        }
      ]
    },
    {
      "cell_type": "code",
      "source": [
        "from sklearn.metrics import accuracy_score, ConfusionMatrixDisplay"
      ],
      "metadata": {
        "id": "mChKTO-4ztq3"
      },
      "execution_count": 27,
      "outputs": []
    },
    {
      "cell_type": "code",
      "source": [
        "cm = confusion_matrix(y_val,prediction)\n",
        "disp = ConfusionMatrixDisplay(confusion_matrix=cm)\n",
        "disp.plot()\n",
        "\n",
        "accuracy_score(y_val,prediction)"
      ],
      "metadata": {
        "colab": {
          "base_uri": "https://localhost:8080/",
          "height": 297
        },
        "id": "ErVHIWh2z-gT",
        "outputId": "dfc72693-4ec8-4085-dca0-6430e4b9722b"
      },
      "execution_count": 34,
      "outputs": [
        {
          "output_type": "execute_result",
          "data": {
            "text/plain": [
              "0.9736842105263158"
            ]
          },
          "metadata": {},
          "execution_count": 34
        },
        {
          "output_type": "display_data",
          "data": {
            "text/plain": [
              "<Figure size 432x288 with 2 Axes>"
            ],
            "image/png": "[encoded data removed]"
          },
          "metadata": {
            "needs_background": "light"
          }
        }
      ]
    },
    {
      "cell_type": "code",
      "source": [],
      "metadata": {
        "id": "8Z_dAP3W9Cit"
      },
      "execution_count": null,
      "outputs": []
    },
    {
      "cell_type": "code",
      "source": [
        "import seaborn as sns \n",
        "from matplotlib import pyplot as plt\n",
        "from sklearn import svm\n",
        "\n",
        "linearSVM = svm.SVC(kernel='linear')\n",
        "linearSVM.fit(X_train,y_train)\n"
      ],
      "metadata": {
        "colab": {
          "base_uri": "https://localhost:8080/",
          "height": 75
        },
        "id": "wQ5lI-ii2Fam",
        "outputId": "a7c744e5-2e1c-46e9-c0ad-f24fe0e93962"
      },
      "execution_count": 35,
      "outputs": [
        {
          "output_type": "execute_result",
          "data": {
            "text/plain": [
              "SVC(kernel='linear')"
            ],
            "text/html": [
              "<style>#sk-container-id-4 {color: black;background-color: white;}#sk-container-id-4 pre{padding: 0;}#sk-container-id-4 div.sk-toggleable {background-color: white;}#sk-container-id-4 label.sk-toggleable__label {cursor: pointer;display: block;width: 100%;margin-bottom: 0;padding: 0.3em;box-sizing: border-box;text-align: center;}#sk-container-id-4 label.sk-toggleable__label-arrow:before {content: \"▸\";float: left;margin-right: 0.25em;color: #696969;}#sk-container-id-4 label.sk-toggleable__label-arrow:hover:before {color: black;}#sk-container-id-4 div.sk-estimator:hover label.sk-toggleable__label-arrow:before {color: black;}#sk-container-id-4 div.sk-toggleable__content {max-height: 0;max-width: 0;overflow: hidden;text-align: left;background-color: #f0f8ff;}#sk-container-id-4 div.sk-toggleable__content pre {margin: 0.2em;color: black;border-radius: 0.25em;background-color: #f0f8ff;}#sk-container-id-4 input.sk-toggleable__control:checked~div.sk-toggleable__content {max-height: 200px;max-width: 100%;overflow: auto;}#sk-container-id-4 input.sk-toggleable__control:checked~label.sk-toggleable__label-arrow:before {content: \"▾\";}#sk-container-id-4 div.sk-estimator input.sk-toggleable__control:checked~label.sk-toggleable__label {background-color: #d4ebff;}#sk-container-id-4 div.sk-label input.sk-toggleable__control:checked~label.sk-toggleable__label {background-color: #d4ebff;}#sk-container-id-4 input.sk-hidden--visually {border: 0;clip: rect(1px 1px 1px 1px);clip: rect(1px, 1px, 1px, 1px);height: 1px;margin: -1px;overflow: hidden;padding: 0;position: absolute;width: 1px;}#sk-container-id-4 div.sk-estimator {font-family: monospace;background-color: #f0f8ff;border: 1px dotted black;border-radius: 0.25em;box-sizing: border-box;margin-bottom: 0.5em;}#sk-container-id-4 div.sk-estimator:hover {background-color: #d4ebff;}#sk-container-id-4 div.sk-parallel-item::after {content: \"\";width: 100%;border-bottom: 1px solid gray;flex-grow: 1;}#sk-container-id-4 div.sk-label:hover label.sk-toggleable__label {background-color: #d4ebff;}#sk-container-id-4 div.sk-serial::before {content: \"\";position: absolute;border-left: 1px solid gray;box-sizing: border-box;top: 0;bottom: 0;left: 50%;z-index: 0;}#sk-container-id-4 div.sk-serial {display: flex;flex-direction: column;align-items: center;background-color: white;padding-right: 0.2em;padding-left: 0.2em;position: relative;}#sk-container-id-4 div.sk-item {position: relative;z-index: 1;}#sk-container-id-4 div.sk-parallel {display: flex;align-items: stretch;justify-content: center;background-color: white;position: relative;}#sk-container-id-4 div.sk-item::before, #sk-container-id-4 div.sk-parallel-item::before {content: \"\";position: absolute;border-left: 1px solid gray;box-sizing: border-box;top: 0;bottom: 0;left: 50%;z-index: -1;}#sk-container-id-4 div.sk-parallel-item {display: flex;flex-direction: column;z-index: 1;position: relative;background-color: white;}#sk-container-id-4 div.sk-parallel-item:first-child::after {align-self: flex-end;width: 50%;}#sk-container-id-4 div.sk-parallel-item:last-child::after {align-self: flex-start;width: 50%;}#sk-container-id-4 div.sk-parallel-item:only-child::after {width: 0;}#sk-container-id-4 div.sk-dashed-wrapped {border: 1px dashed gray;margin: 0 0.4em 0.5em 0.4em;box-sizing: border-box;padding-bottom: 0.4em;background-color: white;}#sk-container-id-4 div.sk-label label {font-family: monospace;font-weight: bold;display: inline-block;line-height: 1.2em;}#sk-container-id-4 div.sk-label-container {text-align: center;}#sk-container-id-4 div.sk-container {/* jupyter's `normalize.less` sets `[hidden] { display: none; }` but bootstrap.min.css set `[hidden] { display: none !important; }` so we also need the `!important` here to be able to override the default hidden behavior on the sphinx rendered scikit-learn.org. See: https://github.com/scikit-learn/scikit-learn/issues/21755 */display: inline-block !important;position: relative;}#sk-container-id-4 div.sk-text-repr-fallback {display: none;}</style><div id=\"sk-container-id-4\" class=\"sk-top-container\"><div class=\"sk-text-repr-fallback\"><pre>SVC(kernel=&#x27;linear&#x27;)</pre><b>In a Jupyter environment, please rerun this cell to show the HTML representation or trust the notebook. <br />On GitHub, the HTML representation is unable to render, please try loading this page with nbviewer.org.</b></div><div class=\"sk-container\" hidden><div class=\"sk-item\"><div class=\"sk-estimator sk-toggleable\"><input class=\"sk-toggleable__control sk-hidden--visually\" id=\"sk-estimator-id-6\" type=\"checkbox\" checked><label for=\"sk-estimator-id-6\" class=\"sk-toggleable__label sk-toggleable__label-arrow\">SVC</label><div class=\"sk-toggleable__content\"><pre>SVC(kernel=&#x27;linear&#x27;)</pre></div></div></div></div></div>"
            ]
          },
          "metadata": {},
          "execution_count": 35
        }
      ]
    },
    {
      "cell_type": "code",
      "source": [
        "linearSVM.score(X_val,y_val)"
      ],
      "metadata": {
        "colab": {
          "base_uri": "https://localhost:8080/"
        },
        "id": "QnS5WzuY3_PZ",
        "outputId": "e6205bca-8469-48e8-c4f4-f5fd496e5b7d"
      },
      "execution_count": 37,
      "outputs": [
        {
          "output_type": "execute_result",
          "data": {
            "text/plain": [
              "0.9605263157894737"
            ]
          },
          "metadata": {},
          "execution_count": 37
        }
      ]
    },
    {
      "cell_type": "code",
      "source": [
        "radialSVM = svm.SVC(kernel='rbf')"
      ],
      "metadata": {
        "id": "LUADh60B4EXv"
      },
      "execution_count": 38,
      "outputs": []
    },
    {
      "cell_type": "code",
      "source": [
        "radialSVM.fit(X_train,y_train)\n",
        "radialSVM.score(X_val,y_val)"
      ],
      "metadata": {
        "colab": {
          "base_uri": "https://localhost:8080/"
        },
        "id": "YZi0-lKb4I0J",
        "outputId": "78692939-a35d-4009-bbf5-2cf873c93a88"
      },
      "execution_count": 39,
      "outputs": [
        {
          "output_type": "execute_result",
          "data": {
            "text/plain": [
              "0.8618421052631579"
            ]
          },
          "metadata": {},
          "execution_count": 39
        }
      ]
    },
    {
      "cell_type": "code",
      "source": [
        "param = { \n",
        "    'C':[0.01, 0.1, 1, 10, 100],\n",
        "    'gamma': [0.1, 0.25, 0.5, 0.75, 1],\n",
        "    'kernel': ['rbf','linear']\n",
        "}"
      ],
      "metadata": {
        "id": "ABVIN_Le4Ptg"
      },
      "execution_count": 40,
      "outputs": []
    },
    {
      "cell_type": "code",
      "source": [
        "from sklearn.model_selection import GridSearchCV\n",
        "\n",
        "SVM=svm.SVC()\n",
        "grid=GridSearchCV(estimator=SVM,\n",
        "                  param_grid=param,\n",
        "                  verbose=3, cv=10)\n",
        "grid.fit(X_train,y_train)"
      ],
      "metadata": {
        "colab": {
          "base_uri": "https://localhost:8080/",
          "height": 1000
        },
        "id": "Jek6TmFn4UR-",
        "outputId": "08588942-15ef-43d9-be20-72c893ed6878"
      },
      "execution_count": 41,
      "outputs": [
        {
          "output_type": "stream",
          "name": "stdout",
          "text": [
            "Fitting 10 folds for each of 50 candidates, totalling 500 fits\n",
            "[CV 1/10] END ....C=0.01, gamma=0.1, kernel=rbf;, score=0.833 total time=   0.0s\n",
            "[CV 2/10] END ....C=0.01, gamma=0.1, kernel=rbf;, score=0.806 total time=   0.0s\n",
            "[CV 3/10] END ....C=0.01, gamma=0.1, kernel=rbf;, score=0.806 total time=   0.0s\n",
            "[CV 4/10] END ....C=0.01, gamma=0.1, kernel=rbf;, score=0.806 total time=   0.0s\n",
            "[CV 5/10] END ....C=0.01, gamma=0.1, kernel=rbf;, score=0.829 total time=   0.0s\n",
            "[CV 6/10] END ....C=0.01, gamma=0.1, kernel=rbf;, score=0.829 total time=   0.0s\n",
            "[CV 7/10] END ....C=0.01, gamma=0.1, kernel=rbf;, score=0.829 total time=   0.0s\n",
            "[CV 8/10] END ....C=0.01, gamma=0.1, kernel=rbf;, score=0.829 total time=   0.0s\n",
            "[CV 9/10] END ....C=0.01, gamma=0.1, kernel=rbf;, score=0.829 total time=   0.0s\n",
            "[CV 10/10] END ...C=0.01, gamma=0.1, kernel=rbf;, score=0.829 total time=   0.0s\n",
            "[CV 1/10] END .C=0.01, gamma=0.1, kernel=linear;, score=0.889 total time=   0.0s\n",
            "[CV 2/10] END .C=0.01, gamma=0.1, kernel=linear;, score=0.917 total time=   0.0s\n",
            "[CV 3/10] END .C=0.01, gamma=0.1, kernel=linear;, score=0.889 total time=   0.0s\n",
            "[CV 4/10] END .C=0.01, gamma=0.1, kernel=linear;, score=1.000 total time=   0.0s\n",
            "[CV 5/10] END .C=0.01, gamma=0.1, kernel=linear;, score=1.000 total time=   0.0s\n",
            "[CV 6/10] END .C=0.01, gamma=0.1, kernel=linear;, score=0.886 total time=   0.0s\n",
            "[CV 7/10] END .C=0.01, gamma=0.1, kernel=linear;, score=0.886 total time=   0.0s\n",
            "[CV 8/10] END .C=0.01, gamma=0.1, kernel=linear;, score=1.000 total time=   0.0s\n",
            "[CV 9/10] END .C=0.01, gamma=0.1, kernel=linear;, score=0.886 total time=   0.0s\n",
            "[CV 10/10] END C=0.01, gamma=0.1, kernel=linear;, score=0.886 total time=   0.0s\n",
            "[CV 1/10] END ...C=0.01, gamma=0.25, kernel=rbf;, score=0.833 total time=   0.0s\n",
            "[CV 2/10] END ...C=0.01, gamma=0.25, kernel=rbf;, score=0.806 total time=   0.0s\n",
            "[CV 3/10] END ...C=0.01, gamma=0.25, kernel=rbf;, score=0.806 total time=   0.0s\n",
            "[CV 4/10] END ...C=0.01, gamma=0.25, kernel=rbf;, score=0.806 total time=   0.0s\n",
            "[CV 5/10] END ...C=0.01, gamma=0.25, kernel=rbf;, score=0.829 total time=   0.0s\n",
            "[CV 6/10] END ...C=0.01, gamma=0.25, kernel=rbf;, score=0.829 total time=   0.0s\n",
            "[CV 7/10] END ...C=0.01, gamma=0.25, kernel=rbf;, score=0.829 total time=   0.0s\n",
            "[CV 8/10] END ...C=0.01, gamma=0.25, kernel=rbf;, score=0.829 total time=   0.0s\n",
            "[CV 9/10] END ...C=0.01, gamma=0.25, kernel=rbf;, score=0.829 total time=   0.0s\n",
            "[CV 10/10] END ..C=0.01, gamma=0.25, kernel=rbf;, score=0.829 total time=   0.0s\n",
            "[CV 1/10] END C=0.01, gamma=0.25, kernel=linear;, score=0.889 total time=   0.0s\n",
            "[CV 2/10] END C=0.01, gamma=0.25, kernel=linear;, score=0.917 total time=   0.0s\n",
            "[CV 3/10] END C=0.01, gamma=0.25, kernel=linear;, score=0.889 total time=   0.0s\n",
            "[CV 4/10] END C=0.01, gamma=0.25, kernel=linear;, score=1.000 total time=   0.0s\n",
            "[CV 5/10] END C=0.01, gamma=0.25, kernel=linear;, score=1.000 total time=   0.0s\n",
            "[CV 6/10] END C=0.01, gamma=0.25, kernel=linear;, score=0.886 total time=   0.0s\n",
            "[CV 7/10] END C=0.01, gamma=0.25, kernel=linear;, score=0.886 total time=   0.0s\n",
            "[CV 8/10] END C=0.01, gamma=0.25, kernel=linear;, score=1.000 total time=   0.0s\n",
            "[CV 9/10] END C=0.01, gamma=0.25, kernel=linear;, score=0.886 total time=   0.0s\n",
            "[CV 10/10] END C=0.01, gamma=0.25, kernel=linear;, score=0.886 total time=   0.0s\n",
            "[CV 1/10] END ....C=0.01, gamma=0.5, kernel=rbf;, score=0.833 total time=   0.0s\n",
            "[CV 2/10] END ....C=0.01, gamma=0.5, kernel=rbf;, score=0.806 total time=   0.0s\n",
            "[CV 3/10] END ....C=0.01, gamma=0.5, kernel=rbf;, score=0.806 total time=   0.0s\n",
            "[CV 4/10] END ....C=0.01, gamma=0.5, kernel=rbf;, score=0.806 total time=   0.0s\n",
            "[CV 5/10] END ....C=0.01, gamma=0.5, kernel=rbf;, score=0.829 total time=   0.0s\n",
            "[CV 6/10] END ....C=0.01, gamma=0.5, kernel=rbf;, score=0.829 total time=   0.0s\n",
            "[CV 7/10] END ....C=0.01, gamma=0.5, kernel=rbf;, score=0.829 total time=   0.0s\n",
            "[CV 8/10] END ....C=0.01, gamma=0.5, kernel=rbf;, score=0.829 total time=   0.0s\n",
            "[CV 9/10] END ....C=0.01, gamma=0.5, kernel=rbf;, score=0.829 total time=   0.0s\n",
            "[CV 10/10] END ...C=0.01, gamma=0.5, kernel=rbf;, score=0.829 total time=   0.0s\n",
            "[CV 1/10] END .C=0.01, gamma=0.5, kernel=linear;, score=0.889 total time=   0.0s\n",
            "[CV 2/10] END .C=0.01, gamma=0.5, kernel=linear;, score=0.917 total time=   0.0s\n",
            "[CV 3/10] END .C=0.01, gamma=0.5, kernel=linear;, score=0.889 total time=   0.0s\n",
            "[CV 4/10] END .C=0.01, gamma=0.5, kernel=linear;, score=1.000 total time=   0.0s\n",
            "[CV 5/10] END .C=0.01, gamma=0.5, kernel=linear;, score=1.000 total time=   0.0s\n",
            "[CV 6/10] END .C=0.01, gamma=0.5, kernel=linear;, score=0.886 total time=   0.0s\n",
            "[CV 7/10] END .C=0.01, gamma=0.5, kernel=linear;, score=0.886 total time=   0.0s\n",
            "[CV 8/10] END .C=0.01, gamma=0.5, kernel=linear;, score=1.000 total time=   0.0s\n",
            "[CV 9/10] END .C=0.01, gamma=0.5, kernel=linear;, score=0.886 total time=   0.0s\n",
            "[CV 10/10] END C=0.01, gamma=0.5, kernel=linear;, score=0.886 total time=   0.0s\n",
            "[CV 1/10] END ...C=0.01, gamma=0.75, kernel=rbf;, score=0.833 total time=   0.0s\n",
            "[CV 2/10] END ...C=0.01, gamma=0.75, kernel=rbf;, score=0.806 total time=   0.0s\n",
            "[CV 3/10] END ...C=0.01, gamma=0.75, kernel=rbf;, score=0.806 total time=   0.0s\n",
            "[CV 4/10] END ...C=0.01, gamma=0.75, kernel=rbf;, score=0.806 total time=   0.0s\n",
            "[CV 5/10] END ...C=0.01, gamma=0.75, kernel=rbf;, score=0.829 total time=   0.0s\n",
            "[CV 6/10] END ...C=0.01, gamma=0.75, kernel=rbf;, score=0.829 total time=   0.0s\n",
            "[CV 7/10] END ...C=0.01, gamma=0.75, kernel=rbf;, score=0.829 total time=   0.0s\n",
            "[CV 8/10] END ...C=0.01, gamma=0.75, kernel=rbf;, score=0.829 total time=   0.0s\n",
            "[CV 9/10] END ...C=0.01, gamma=0.75, kernel=rbf;, score=0.829 total time=   0.0s\n",
            "[CV 10/10] END ..C=0.01, gamma=0.75, kernel=rbf;, score=0.829 total time=   0.0s\n",
            "[CV 1/10] END C=0.01, gamma=0.75, kernel=linear;, score=0.889 total time=   0.0s\n",
            "[CV 2/10] END C=0.01, gamma=0.75, kernel=linear;, score=0.917 total time=   0.0s\n",
            "[CV 3/10] END C=0.01, gamma=0.75, kernel=linear;, score=0.889 total time=   0.0s\n",
            "[CV 4/10] END C=0.01, gamma=0.75, kernel=linear;, score=1.000 total time=   0.0s\n",
            "[CV 5/10] END C=0.01, gamma=0.75, kernel=linear;, score=1.000 total time=   0.0s\n",
            "[CV 6/10] END C=0.01, gamma=0.75, kernel=linear;, score=0.886 total time=   0.0s\n",
            "[CV 7/10] END C=0.01, gamma=0.75, kernel=linear;, score=0.886 total time=   0.0s\n",
            "[CV 8/10] END C=0.01, gamma=0.75, kernel=linear;, score=1.000 total time=   0.0s\n",
            "[CV 9/10] END C=0.01, gamma=0.75, kernel=linear;, score=0.886 total time=   0.0s\n",
            "[CV 10/10] END C=0.01, gamma=0.75, kernel=linear;, score=0.886 total time=   0.0s\n",
            "[CV 1/10] END ......C=0.01, gamma=1, kernel=rbf;, score=0.833 total time=   0.0s\n",
            "[CV 2/10] END ......C=0.01, gamma=1, kernel=rbf;, score=0.806 total time=   0.0s\n",
            "[CV 3/10] END ......C=0.01, gamma=1, kernel=rbf;, score=0.806 total time=   0.0s\n",
            "[CV 4/10] END ......C=0.01, gamma=1, kernel=rbf;, score=0.806 total time=   0.0s\n",
            "[CV 5/10] END ......C=0.01, gamma=1, kernel=rbf;, score=0.829 total time=   0.0s\n",
            "[CV 6/10] END ......C=0.01, gamma=1, kernel=rbf;, score=0.829 total time=   0.0s\n",
            "[CV 7/10] END ......C=0.01, gamma=1, kernel=rbf;, score=0.829 total time=   0.0s\n",
            "[CV 8/10] END ......C=0.01, gamma=1, kernel=rbf;, score=0.829 total time=   0.0s\n",
            "[CV 9/10] END ......C=0.01, gamma=1, kernel=rbf;, score=0.829 total time=   0.0s\n",
            "[CV 10/10] END .....C=0.01, gamma=1, kernel=rbf;, score=0.829 total time=   0.0s\n",
            "[CV 1/10] END ...C=0.01, gamma=1, kernel=linear;, score=0.889 total time=   0.0s\n",
            "[CV 2/10] END ...C=0.01, gamma=1, kernel=linear;, score=0.917 total time=   0.0s\n",
            "[CV 3/10] END ...C=0.01, gamma=1, kernel=linear;, score=0.889 total time=   0.0s\n",
            "[CV 4/10] END ...C=0.01, gamma=1, kernel=linear;, score=1.000 total time=   0.0s\n",
            "[CV 5/10] END ...C=0.01, gamma=1, kernel=linear;, score=1.000 total time=   0.0s\n",
            "[CV 6/10] END ...C=0.01, gamma=1, kernel=linear;, score=0.886 total time=   0.0s\n",
            "[CV 7/10] END ...C=0.01, gamma=1, kernel=linear;, score=0.886 total time=   0.0s\n",
            "[CV 8/10] END ...C=0.01, gamma=1, kernel=linear;, score=1.000 total time=   0.0s\n",
            "[CV 9/10] END ...C=0.01, gamma=1, kernel=linear;, score=0.886 total time=   0.0s\n",
            "[CV 10/10] END ..C=0.01, gamma=1, kernel=linear;, score=0.886 total time=   0.0s\n",
            "[CV 1/10] END .....C=0.1, gamma=0.1, kernel=rbf;, score=0.833 total time=   0.0s\n",
            "[CV 2/10] END .....C=0.1, gamma=0.1, kernel=rbf;, score=0.806 total time=   0.0s\n",
            "[CV 3/10] END .....C=0.1, gamma=0.1, kernel=rbf;, score=0.806 total time=   0.0s\n",
            "[CV 4/10] END .....C=0.1, gamma=0.1, kernel=rbf;, score=0.806 total time=   0.0s\n",
            "[CV 5/10] END .....C=0.1, gamma=0.1, kernel=rbf;, score=0.829 total time=   0.0s\n",
            "[CV 6/10] END .....C=0.1, gamma=0.1, kernel=rbf;, score=0.829 total time=   0.0s\n",
            "[CV 7/10] END .....C=0.1, gamma=0.1, kernel=rbf;, score=0.829 total time=   0.0s\n",
            "[CV 8/10] END .....C=0.1, gamma=0.1, kernel=rbf;, score=0.829 total time=   0.0s\n",
            "[CV 9/10] END .....C=0.1, gamma=0.1, kernel=rbf;, score=0.829 total time=   0.0s\n",
            "[CV 10/10] END ....C=0.1, gamma=0.1, kernel=rbf;, score=0.829 total time=   0.0s\n",
            "[CV 1/10] END ..C=0.1, gamma=0.1, kernel=linear;, score=0.917 total time=   0.1s\n",
            "[CV 2/10] END ..C=0.1, gamma=0.1, kernel=linear;, score=0.917 total time=   0.0s\n",
            "[CV 3/10] END ..C=0.1, gamma=0.1, kernel=linear;, score=0.889 total time=   0.0s\n",
            "[CV 4/10] END ..C=0.1, gamma=0.1, kernel=linear;, score=1.000 total time=   0.0s\n",
            "[CV 5/10] END ..C=0.1, gamma=0.1, kernel=linear;, score=1.000 total time=   0.0s\n",
            "[CV 6/10] END ..C=0.1, gamma=0.1, kernel=linear;, score=0.914 total time=   0.1s\n",
            "[CV 7/10] END ..C=0.1, gamma=0.1, kernel=linear;, score=0.914 total time=   0.1s\n",
            "[CV 8/10] END ..C=0.1, gamma=0.1, kernel=linear;, score=1.000 total time=   0.1s\n",
            "[CV 9/10] END ..C=0.1, gamma=0.1, kernel=linear;, score=0.914 total time=   0.0s\n",
            "[CV 10/10] END .C=0.1, gamma=0.1, kernel=linear;, score=0.943 total time=   0.1s\n",
            "[CV 1/10] END ....C=0.1, gamma=0.25, kernel=rbf;, score=0.833 total time=   0.0s\n",
            "[CV 2/10] END ....C=0.1, gamma=0.25, kernel=rbf;, score=0.806 total time=   0.0s\n",
            "[CV 3/10] END ....C=0.1, gamma=0.25, kernel=rbf;, score=0.806 total time=   0.0s\n",
            "[CV 4/10] END ....C=0.1, gamma=0.25, kernel=rbf;, score=0.806 total time=   0.0s\n",
            "[CV 5/10] END ....C=0.1, gamma=0.25, kernel=rbf;, score=0.829 total time=   0.0s\n",
            "[CV 6/10] END ....C=0.1, gamma=0.25, kernel=rbf;, score=0.829 total time=   0.0s\n",
            "[CV 7/10] END ....C=0.1, gamma=0.25, kernel=rbf;, score=0.829 total time=   0.0s\n",
            "[CV 8/10] END ....C=0.1, gamma=0.25, kernel=rbf;, score=0.829 total time=   0.0s\n",
            "[CV 9/10] END ....C=0.1, gamma=0.25, kernel=rbf;, score=0.829 total time=   0.0s\n",
            "[CV 10/10] END ...C=0.1, gamma=0.25, kernel=rbf;, score=0.829 total time=   0.0s\n",
            "[CV 1/10] END .C=0.1, gamma=0.25, kernel=linear;, score=0.917 total time=   0.2s\n",
            "[CV 2/10] END .C=0.1, gamma=0.25, kernel=linear;, score=0.917 total time=   0.1s\n",
            "[CV 3/10] END .C=0.1, gamma=0.25, kernel=linear;, score=0.889 total time=   0.1s\n",
            "[CV 4/10] END .C=0.1, gamma=0.25, kernel=linear;, score=1.000 total time=   0.1s\n",
            "[CV 5/10] END .C=0.1, gamma=0.25, kernel=linear;, score=1.000 total time=   0.0s\n",
            "[CV 6/10] END .C=0.1, gamma=0.25, kernel=linear;, score=0.914 total time=   0.1s\n",
            "[CV 7/10] END .C=0.1, gamma=0.25, kernel=linear;, score=0.914 total time=   0.1s\n",
            "[CV 8/10] END .C=0.1, gamma=0.25, kernel=linear;, score=1.000 total time=   0.1s\n",
            "[CV 9/10] END .C=0.1, gamma=0.25, kernel=linear;, score=0.914 total time=   0.1s\n",
            "[CV 10/10] END C=0.1, gamma=0.25, kernel=linear;, score=0.943 total time=   0.1s\n",
            "[CV 1/10] END .....C=0.1, gamma=0.5, kernel=rbf;, score=0.833 total time=   0.0s\n",
            "[CV 2/10] END .....C=0.1, gamma=0.5, kernel=rbf;, score=0.806 total time=   0.0s\n",
            "[CV 3/10] END .....C=0.1, gamma=0.5, kernel=rbf;, score=0.806 total time=   0.0s\n",
            "[CV 4/10] END .....C=0.1, gamma=0.5, kernel=rbf;, score=0.806 total time=   0.0s\n",
            "[CV 5/10] END .....C=0.1, gamma=0.5, kernel=rbf;, score=0.829 total time=   0.0s\n",
            "[CV 6/10] END .....C=0.1, gamma=0.5, kernel=rbf;, score=0.829 total time=   0.0s\n",
            "[CV 7/10] END .....C=0.1, gamma=0.5, kernel=rbf;, score=0.829 total time=   0.0s\n",
            "[CV 8/10] END .....C=0.1, gamma=0.5, kernel=rbf;, score=0.829 total time=   0.0s\n",
            "[CV 9/10] END .....C=0.1, gamma=0.5, kernel=rbf;, score=0.829 total time=   0.0s\n",
            "[CV 10/10] END ....C=0.1, gamma=0.5, kernel=rbf;, score=0.829 total time=   0.0s\n",
            "[CV 1/10] END ..C=0.1, gamma=0.5, kernel=linear;, score=0.917 total time=   0.2s\n",
            "[CV 2/10] END ..C=0.1, gamma=0.5, kernel=linear;, score=0.917 total time=   0.1s\n",
            "[CV 3/10] END ..C=0.1, gamma=0.5, kernel=linear;, score=0.889 total time=   0.1s\n",
            "[CV 4/10] END ..C=0.1, gamma=0.5, kernel=linear;, score=1.000 total time=   0.1s\n",
            "[CV 5/10] END ..C=0.1, gamma=0.5, kernel=linear;, score=1.000 total time=   0.0s\n",
            "[CV 6/10] END ..C=0.1, gamma=0.5, kernel=linear;, score=0.914 total time=   0.1s\n",
            "[CV 7/10] END ..C=0.1, gamma=0.5, kernel=linear;, score=0.914 total time=   0.1s\n",
            "[CV 8/10] END ..C=0.1, gamma=0.5, kernel=linear;, score=1.000 total time=   0.1s\n",
            "[CV 9/10] END ..C=0.1, gamma=0.5, kernel=linear;, score=0.914 total time=   0.0s\n",
            "[CV 10/10] END .C=0.1, gamma=0.5, kernel=linear;, score=0.943 total time=   0.1s\n",
            "[CV 1/10] END ....C=0.1, gamma=0.75, kernel=rbf;, score=0.833 total time=   0.0s\n",
            "[CV 2/10] END ....C=0.1, gamma=0.75, kernel=rbf;, score=0.806 total time=   0.0s\n",
            "[CV 3/10] END ....C=0.1, gamma=0.75, kernel=rbf;, score=0.806 total time=   0.0s\n",
            "[CV 4/10] END ....C=0.1, gamma=0.75, kernel=rbf;, score=0.806 total time=   0.0s\n",
            "[CV 5/10] END ....C=0.1, gamma=0.75, kernel=rbf;, score=0.829 total time=   0.0s\n",
            "[CV 6/10] END ....C=0.1, gamma=0.75, kernel=rbf;, score=0.829 total time=   0.0s\n",
            "[CV 7/10] END ....C=0.1, gamma=0.75, kernel=rbf;, score=0.829 total time=   0.0s\n",
            "[CV 8/10] END ....C=0.1, gamma=0.75, kernel=rbf;, score=0.829 total time=   0.0s\n",
            "[CV 9/10] END ....C=0.1, gamma=0.75, kernel=rbf;, score=0.829 total time=   0.0s\n",
            "[CV 10/10] END ...C=0.1, gamma=0.75, kernel=rbf;, score=0.829 total time=   0.0s\n",
            "[CV 1/10] END .C=0.1, gamma=0.75, kernel=linear;, score=0.917 total time=   0.2s\n",
            "[CV 2/10] END .C=0.1, gamma=0.75, kernel=linear;, score=0.917 total time=   0.1s\n",
            "[CV 3/10] END .C=0.1, gamma=0.75, kernel=linear;, score=0.889 total time=   0.1s\n",
            "[CV 4/10] END .C=0.1, gamma=0.75, kernel=linear;, score=1.000 total time=   0.1s\n",
            "[CV 5/10] END .C=0.1, gamma=0.75, kernel=linear;, score=1.000 total time=   0.0s\n",
            "[CV 6/10] END .C=0.1, gamma=0.75, kernel=linear;, score=0.914 total time=   0.0s\n",
            "[CV 7/10] END .C=0.1, gamma=0.75, kernel=linear;, score=0.914 total time=   0.0s\n",
            "[CV 8/10] END .C=0.1, gamma=0.75, kernel=linear;, score=1.000 total time=   0.0s\n",
            "[CV 9/10] END .C=0.1, gamma=0.75, kernel=linear;, score=0.914 total time=   0.0s\n",
            "[CV 10/10] END C=0.1, gamma=0.75, kernel=linear;, score=0.943 total time=   0.0s\n",
            "[CV 1/10] END .......C=0.1, gamma=1, kernel=rbf;, score=0.833 total time=   0.0s\n",
            "[CV 2/10] END .......C=0.1, gamma=1, kernel=rbf;, score=0.806 total time=   0.0s\n",
            "[CV 3/10] END .......C=0.1, gamma=1, kernel=rbf;, score=0.806 total time=   0.0s\n",
            "[CV 4/10] END .......C=0.1, gamma=1, kernel=rbf;, score=0.806 total time=   0.0s\n",
            "[CV 5/10] END .......C=0.1, gamma=1, kernel=rbf;, score=0.829 total time=   0.0s\n",
            "[CV 6/10] END .......C=0.1, gamma=1, kernel=rbf;, score=0.829 total time=   0.0s\n",
            "[CV 7/10] END .......C=0.1, gamma=1, kernel=rbf;, score=0.829 total time=   0.0s\n",
            "[CV 8/10] END .......C=0.1, gamma=1, kernel=rbf;, score=0.829 total time=   0.0s\n",
            "[CV 9/10] END .......C=0.1, gamma=1, kernel=rbf;, score=0.829 total time=   0.0s\n",
            "[CV 10/10] END ......C=0.1, gamma=1, kernel=rbf;, score=0.829 total time=   0.0s\n",
            "[CV 1/10] END ....C=0.1, gamma=1, kernel=linear;, score=0.917 total time=   0.1s\n",
            "[CV 2/10] END ....C=0.1, gamma=1, kernel=linear;, score=0.917 total time=   0.0s\n",
            "[CV 3/10] END ....C=0.1, gamma=1, kernel=linear;, score=0.889 total time=   0.0s\n",
            "[CV 4/10] END ....C=0.1, gamma=1, kernel=linear;, score=1.000 total time=   0.0s\n",
            "[CV 5/10] END ....C=0.1, gamma=1, kernel=linear;, score=1.000 total time=   0.0s\n",
            "[CV 6/10] END ....C=0.1, gamma=1, kernel=linear;, score=0.914 total time=   0.0s\n",
            "[CV 7/10] END ....C=0.1, gamma=1, kernel=linear;, score=0.914 total time=   0.0s\n",
            "[CV 8/10] END ....C=0.1, gamma=1, kernel=linear;, score=1.000 total time=   0.0s\n",
            "[CV 9/10] END ....C=0.1, gamma=1, kernel=linear;, score=0.914 total time=   0.0s\n",
            "[CV 10/10] END ...C=0.1, gamma=1, kernel=linear;, score=0.943 total time=   0.0s\n",
            "[CV 1/10] END .......C=1, gamma=0.1, kernel=rbf;, score=0.833 total time=   0.0s\n",
            "[CV 2/10] END .......C=1, gamma=0.1, kernel=rbf;, score=0.861 total time=   0.0s\n",
            "[CV 3/10] END .......C=1, gamma=0.1, kernel=rbf;, score=0.889 total time=   0.0s\n",
            "[CV 4/10] END .......C=1, gamma=0.1, kernel=rbf;, score=0.806 total time=   0.0s\n",
            "[CV 5/10] END .......C=1, gamma=0.1, kernel=rbf;, score=0.829 total time=   0.0s\n",
            "[CV 6/10] END .......C=1, gamma=0.1, kernel=rbf;, score=0.857 total time=   0.0s\n",
            "[CV 7/10] END .......C=1, gamma=0.1, kernel=rbf;, score=0.886 total time=   0.0s\n",
            "[CV 8/10] END .......C=1, gamma=0.1, kernel=rbf;, score=0.886 total time=   0.0s\n",
            "[CV 9/10] END .......C=1, gamma=0.1, kernel=rbf;, score=0.829 total time=   0.0s\n",
            "[CV 10/10] END ......C=1, gamma=0.1, kernel=rbf;, score=0.829 total time=   0.0s\n",
            "[CV 1/10] END ....C=1, gamma=0.1, kernel=linear;, score=0.917 total time=   0.2s\n",
            "[CV 2/10] END ....C=1, gamma=0.1, kernel=linear;, score=0.917 total time=   0.2s\n",
            "[CV 3/10] END ....C=1, gamma=0.1, kernel=linear;, score=0.917 total time=   0.1s\n",
            "[CV 4/10] END ....C=1, gamma=0.1, kernel=linear;, score=1.000 total time=   0.2s\n",
            "[CV 5/10] END ....C=1, gamma=0.1, kernel=linear;, score=1.000 total time=   0.1s\n",
            "[CV 6/10] END ....C=1, gamma=0.1, kernel=linear;, score=0.886 total time=   0.6s\n",
            "[CV 7/10] END ....C=1, gamma=0.1, kernel=linear;, score=0.943 total time=   0.2s\n",
            "[CV 8/10] END ....C=1, gamma=0.1, kernel=linear;, score=1.000 total time=   0.2s\n",
            "[CV 9/10] END ....C=1, gamma=0.1, kernel=linear;, score=0.943 total time=   0.1s\n",
            "[CV 10/10] END ...C=1, gamma=0.1, kernel=linear;, score=0.943 total time=   0.2s\n",
            "[CV 1/10] END ......C=1, gamma=0.25, kernel=rbf;, score=0.833 total time=   0.0s\n",
            "[CV 2/10] END ......C=1, gamma=0.25, kernel=rbf;, score=0.806 total time=   0.0s\n",
            "[CV 3/10] END ......C=1, gamma=0.25, kernel=rbf;, score=0.833 total time=   0.0s\n",
            "[CV 4/10] END ......C=1, gamma=0.25, kernel=rbf;, score=0.806 total time=   0.0s\n",
            "[CV 5/10] END ......C=1, gamma=0.25, kernel=rbf;, score=0.829 total time=   0.0s\n",
            "[CV 6/10] END ......C=1, gamma=0.25, kernel=rbf;, score=0.857 total time=   0.0s\n",
            "[CV 7/10] END ......C=1, gamma=0.25, kernel=rbf;, score=0.857 total time=   0.0s\n",
            "[CV 8/10] END ......C=1, gamma=0.25, kernel=rbf;, score=0.829 total time=   0.0s\n",
            "[CV 9/10] END ......C=1, gamma=0.25, kernel=rbf;, score=0.829 total time=   0.0s\n",
            "[CV 10/10] END .....C=1, gamma=0.25, kernel=rbf;, score=0.829 total time=   0.0s\n",
            "[CV 1/10] END ...C=1, gamma=0.25, kernel=linear;, score=0.917 total time=   0.2s\n",
            "[CV 2/10] END ...C=1, gamma=0.25, kernel=linear;, score=0.917 total time=   0.2s\n",
            "[CV 3/10] END ...C=1, gamma=0.25, kernel=linear;, score=0.917 total time=   0.1s\n",
            "[CV 4/10] END ...C=1, gamma=0.25, kernel=linear;, score=1.000 total time=   0.2s\n",
            "[CV 5/10] END ...C=1, gamma=0.25, kernel=linear;, score=1.000 total time=   0.1s\n",
            "[CV 6/10] END ...C=1, gamma=0.25, kernel=linear;, score=0.886 total time=   0.5s\n",
            "[CV 7/10] END ...C=1, gamma=0.25, kernel=linear;, score=0.943 total time=   0.2s\n",
            "[CV 8/10] END ...C=1, gamma=0.25, kernel=linear;, score=1.000 total time=   0.2s\n",
            "[CV 9/10] END ...C=1, gamma=0.25, kernel=linear;, score=0.943 total time=   0.1s\n",
            "[CV 10/10] END ..C=1, gamma=0.25, kernel=linear;, score=0.943 total time=   0.2s\n",
            "[CV 1/10] END .......C=1, gamma=0.5, kernel=rbf;, score=0.833 total time=   0.0s\n",
            "[CV 2/10] END .......C=1, gamma=0.5, kernel=rbf;, score=0.806 total time=   0.0s\n",
            "[CV 3/10] END .......C=1, gamma=0.5, kernel=rbf;, score=0.806 total time=   0.0s\n",
            "[CV 4/10] END .......C=1, gamma=0.5, kernel=rbf;, score=0.806 total time=   0.0s\n",
            "[CV 5/10] END .......C=1, gamma=0.5, kernel=rbf;, score=0.829 total time=   0.0s\n",
            "[CV 6/10] END .......C=1, gamma=0.5, kernel=rbf;, score=0.829 total time=   0.0s\n",
            "[CV 7/10] END .......C=1, gamma=0.5, kernel=rbf;, score=0.829 total time=   0.0s\n",
            "[CV 8/10] END .......C=1, gamma=0.5, kernel=rbf;, score=0.829 total time=   0.0s\n",
            "[CV 9/10] END .......C=1, gamma=0.5, kernel=rbf;, score=0.800 total time=   0.0s\n",
            "[CV 10/10] END ......C=1, gamma=0.5, kernel=rbf;, score=0.829 total time=   0.0s\n",
            "[CV 1/10] END ....C=1, gamma=0.5, kernel=linear;, score=0.917 total time=   0.2s\n",
            "[CV 2/10] END ....C=1, gamma=0.5, kernel=linear;, score=0.917 total time=   0.2s\n",
            "[CV 3/10] END ....C=1, gamma=0.5, kernel=linear;, score=0.917 total time=   0.1s\n",
            "[CV 4/10] END ....C=1, gamma=0.5, kernel=linear;, score=1.000 total time=   0.2s\n",
            "[CV 5/10] END ....C=1, gamma=0.5, kernel=linear;, score=1.000 total time=   0.1s\n",
            "[CV 6/10] END ....C=1, gamma=0.5, kernel=linear;, score=0.886 total time=   0.5s\n",
            "[CV 7/10] END ....C=1, gamma=0.5, kernel=linear;, score=0.943 total time=   0.2s\n",
            "[CV 8/10] END ....C=1, gamma=0.5, kernel=linear;, score=1.000 total time=   0.2s\n",
            "[CV 9/10] END ....C=1, gamma=0.5, kernel=linear;, score=0.943 total time=   0.1s\n",
            "[CV 10/10] END ...C=1, gamma=0.5, kernel=linear;, score=0.943 total time=   0.2s\n",
            "[CV 1/10] END ......C=1, gamma=0.75, kernel=rbf;, score=0.833 total time=   0.0s\n",
            "[CV 2/10] END ......C=1, gamma=0.75, kernel=rbf;, score=0.806 total time=   0.0s\n",
            "[CV 3/10] END ......C=1, gamma=0.75, kernel=rbf;, score=0.806 total time=   0.0s\n",
            "[CV 4/10] END ......C=1, gamma=0.75, kernel=rbf;, score=0.806 total time=   0.0s\n",
            "[CV 5/10] END ......C=1, gamma=0.75, kernel=rbf;, score=0.829 total time=   0.0s\n",
            "[CV 6/10] END ......C=1, gamma=0.75, kernel=rbf;, score=0.829 total time=   0.0s\n",
            "[CV 7/10] END ......C=1, gamma=0.75, kernel=rbf;, score=0.829 total time=   0.0s\n",
            "[CV 8/10] END ......C=1, gamma=0.75, kernel=rbf;, score=0.829 total time=   0.0s\n",
            "[CV 9/10] END ......C=1, gamma=0.75, kernel=rbf;, score=0.800 total time=   0.0s\n",
            "[CV 10/10] END .....C=1, gamma=0.75, kernel=rbf;, score=0.829 total time=   0.0s\n",
            "[CV 1/10] END ...C=1, gamma=0.75, kernel=linear;, score=0.917 total time=   0.2s\n",
            "[CV 2/10] END ...C=1, gamma=0.75, kernel=linear;, score=0.917 total time=   0.2s\n",
            "[CV 3/10] END ...C=1, gamma=0.75, kernel=linear;, score=0.917 total time=   0.1s\n",
            "[CV 4/10] END ...C=1, gamma=0.75, kernel=linear;, score=1.000 total time=   0.2s\n",
            "[CV 5/10] END ...C=1, gamma=0.75, kernel=linear;, score=1.000 total time=   0.1s\n",
            "[CV 6/10] END ...C=1, gamma=0.75, kernel=linear;, score=0.886 total time=   0.5s\n",
            "[CV 7/10] END ...C=1, gamma=0.75, kernel=linear;, score=0.943 total time=   0.2s\n",
            "[CV 8/10] END ...C=1, gamma=0.75, kernel=linear;, score=1.000 total time=   0.6s\n",
            "[CV 9/10] END ...C=1, gamma=0.75, kernel=linear;, score=0.943 total time=   0.9s\n",
            "[CV 10/10] END ..C=1, gamma=0.75, kernel=linear;, score=0.943 total time=   0.5s\n",
            "[CV 1/10] END .........C=1, gamma=1, kernel=rbf;, score=0.833 total time=   0.0s\n",
            "[CV 2/10] END .........C=1, gamma=1, kernel=rbf;, score=0.806 total time=   0.0s\n",
            "[CV 3/10] END .........C=1, gamma=1, kernel=rbf;, score=0.806 total time=   0.0s\n",
            "[CV 4/10] END .........C=1, gamma=1, kernel=rbf;, score=0.806 total time=   0.0s\n",
            "[CV 5/10] END .........C=1, gamma=1, kernel=rbf;, score=0.829 total time=   0.0s\n",
            "[CV 6/10] END .........C=1, gamma=1, kernel=rbf;, score=0.829 total time=   0.0s\n",
            "[CV 7/10] END .........C=1, gamma=1, kernel=rbf;, score=0.829 total time=   0.0s\n",
            "[CV 8/10] END .........C=1, gamma=1, kernel=rbf;, score=0.829 total time=   0.0s\n",
            "[CV 9/10] END .........C=1, gamma=1, kernel=rbf;, score=0.800 total time=   0.0s\n",
            "[CV 10/10] END ........C=1, gamma=1, kernel=rbf;, score=0.829 total time=   0.0s\n",
            "[CV 1/10] END ......C=1, gamma=1, kernel=linear;, score=0.917 total time=   0.4s\n",
            "[CV 2/10] END ......C=1, gamma=1, kernel=linear;, score=0.917 total time=   0.3s\n",
            "[CV 3/10] END ......C=1, gamma=1, kernel=linear;, score=0.917 total time=   0.2s\n",
            "[CV 4/10] END ......C=1, gamma=1, kernel=linear;, score=1.000 total time=   0.3s\n",
            "[CV 5/10] END ......C=1, gamma=1, kernel=linear;, score=1.000 total time=   0.5s\n",
            "[CV 6/10] END ......C=1, gamma=1, kernel=linear;, score=0.886 total time=   1.0s\n",
            "[CV 7/10] END ......C=1, gamma=1, kernel=linear;, score=0.943 total time=   0.2s\n",
            "[CV 8/10] END ......C=1, gamma=1, kernel=linear;, score=1.000 total time=   0.2s\n",
            "[CV 9/10] END ......C=1, gamma=1, kernel=linear;, score=0.943 total time=   0.2s\n",
            "[CV 10/10] END .....C=1, gamma=1, kernel=linear;, score=0.943 total time=   0.2s\n",
            "[CV 1/10] END ......C=10, gamma=0.1, kernel=rbf;, score=0.833 total time=   0.0s\n",
            "[CV 2/10] END ......C=10, gamma=0.1, kernel=rbf;, score=0.889 total time=   0.0s\n",
            "[CV 3/10] END ......C=10, gamma=0.1, kernel=rbf;, score=0.944 total time=   0.0s\n",
            "[CV 4/10] END ......C=10, gamma=0.1, kernel=rbf;, score=0.861 total time=   0.0s\n",
            "[CV 5/10] END ......C=10, gamma=0.1, kernel=rbf;, score=0.829 total time=   0.0s\n",
            "[CV 6/10] END ......C=10, gamma=0.1, kernel=rbf;, score=0.886 total time=   0.0s\n",
            "[CV 7/10] END ......C=10, gamma=0.1, kernel=rbf;, score=0.886 total time=   0.0s\n",
            "[CV 8/10] END ......C=10, gamma=0.1, kernel=rbf;, score=0.886 total time=   0.0s\n",
            "[CV 9/10] END ......C=10, gamma=0.1, kernel=rbf;, score=0.857 total time=   0.0s\n",
            "[CV 10/10] END .....C=10, gamma=0.1, kernel=rbf;, score=0.857 total time=   0.0s\n",
            "[CV 1/10] END ...C=10, gamma=0.1, kernel=linear;, score=0.889 total time=   1.3s\n",
            "[CV 2/10] END ...C=10, gamma=0.1, kernel=linear;, score=0.944 total time=   1.1s\n",
            "[CV 3/10] END ...C=10, gamma=0.1, kernel=linear;, score=0.889 total time=   0.4s\n",
            "[CV 4/10] END ...C=10, gamma=0.1, kernel=linear;, score=1.000 total time=   2.1s\n",
            "[CV 5/10] END ...C=10, gamma=0.1, kernel=linear;, score=0.971 total time=   1.9s\n",
            "[CV 6/10] END ...C=10, gamma=0.1, kernel=linear;, score=0.886 total time=   0.9s\n",
            "[CV 7/10] END ...C=10, gamma=0.1, kernel=linear;, score=0.914 total time=   4.9s\n",
            "[CV 8/10] END ...C=10, gamma=0.1, kernel=linear;, score=1.000 total time=   1.8s\n",
            "[CV 9/10] END ...C=10, gamma=0.1, kernel=linear;, score=0.914 total time=   1.1s\n",
            "[CV 10/10] END ..C=10, gamma=0.1, kernel=linear;, score=0.943 total time=   3.7s\n",
            "[CV 1/10] END .....C=10, gamma=0.25, kernel=rbf;, score=0.833 total time=   0.0s\n",
            "[CV 2/10] END .....C=10, gamma=0.25, kernel=rbf;, score=0.806 total time=   0.0s\n",
            "[CV 3/10] END .....C=10, gamma=0.25, kernel=rbf;, score=0.889 total time=   0.0s\n",
            "[CV 4/10] END .....C=10, gamma=0.25, kernel=rbf;, score=0.806 total time=   0.0s\n",
            "[CV 5/10] END .....C=10, gamma=0.25, kernel=rbf;, score=0.829 total time=   0.0s\n",
            "[CV 6/10] END .....C=10, gamma=0.25, kernel=rbf;, score=0.857 total time=   0.0s\n",
            "[CV 7/10] END .....C=10, gamma=0.25, kernel=rbf;, score=0.886 total time=   0.0s\n",
            "[CV 8/10] END .....C=10, gamma=0.25, kernel=rbf;, score=0.857 total time=   0.0s\n",
            "[CV 9/10] END .....C=10, gamma=0.25, kernel=rbf;, score=0.829 total time=   0.0s\n",
            "[CV 10/10] END ....C=10, gamma=0.25, kernel=rbf;, score=0.829 total time=   0.0s\n",
            "[CV 1/10] END ..C=10, gamma=0.25, kernel=linear;, score=0.889 total time=   1.3s\n",
            "[CV 2/10] END ..C=10, gamma=0.25, kernel=linear;, score=0.944 total time=   1.3s\n",
            "[CV 3/10] END ..C=10, gamma=0.25, kernel=linear;, score=0.889 total time=   0.8s\n",
            "[CV 4/10] END ..C=10, gamma=0.25, kernel=linear;, score=1.000 total time=   2.9s\n",
            "[CV 5/10] END ..C=10, gamma=0.25, kernel=linear;, score=0.971 total time=   1.9s\n",
            "[CV 6/10] END ..C=10, gamma=0.25, kernel=linear;, score=0.886 total time=   0.9s\n",
            "[CV 7/10] END ..C=10, gamma=0.25, kernel=linear;, score=0.914 total time=   3.4s\n",
            "[CV 8/10] END ..C=10, gamma=0.25, kernel=linear;, score=1.000 total time=   1.9s\n",
            "[CV 9/10] END ..C=10, gamma=0.25, kernel=linear;, score=0.914 total time=   1.6s\n",
            "[CV 10/10] END .C=10, gamma=0.25, kernel=linear;, score=0.943 total time=   4.8s\n",
            "[CV 1/10] END ......C=10, gamma=0.5, kernel=rbf;, score=0.833 total time=   0.0s\n",
            "[CV 2/10] END ......C=10, gamma=0.5, kernel=rbf;, score=0.806 total time=   0.0s\n",
            "[CV 3/10] END ......C=10, gamma=0.5, kernel=rbf;, score=0.833 total time=   0.0s\n",
            "[CV 4/10] END ......C=10, gamma=0.5, kernel=rbf;, score=0.806 total time=   0.0s\n",
            "[CV 5/10] END ......C=10, gamma=0.5, kernel=rbf;, score=0.829 total time=   0.0s\n",
            "[CV 6/10] END ......C=10, gamma=0.5, kernel=rbf;, score=0.857 total time=   0.0s\n",
            "[CV 7/10] END ......C=10, gamma=0.5, kernel=rbf;, score=0.857 total time=   0.0s\n",
            "[CV 8/10] END ......C=10, gamma=0.5, kernel=rbf;, score=0.829 total time=   0.0s\n",
            "[CV 9/10] END ......C=10, gamma=0.5, kernel=rbf;, score=0.829 total time=   0.0s\n",
            "[CV 10/10] END .....C=10, gamma=0.5, kernel=rbf;, score=0.829 total time=   0.0s\n",
            "[CV 1/10] END ...C=10, gamma=0.5, kernel=linear;, score=0.889 total time=   1.3s\n",
            "[CV 2/10] END ...C=10, gamma=0.5, kernel=linear;, score=0.944 total time=   1.0s\n",
            "[CV 3/10] END ...C=10, gamma=0.5, kernel=linear;, score=0.889 total time=   0.4s\n",
            "[CV 4/10] END ...C=10, gamma=0.5, kernel=linear;, score=1.000 total time=   2.1s\n",
            "[CV 5/10] END ...C=10, gamma=0.5, kernel=linear;, score=0.971 total time=   1.9s\n",
            "[CV 6/10] END ...C=10, gamma=0.5, kernel=linear;, score=0.886 total time=   1.5s\n",
            "[CV 7/10] END ...C=10, gamma=0.5, kernel=linear;, score=0.914 total time=   4.3s\n",
            "[CV 8/10] END ...C=10, gamma=0.5, kernel=linear;, score=1.000 total time=   1.8s\n",
            "[CV 9/10] END ...C=10, gamma=0.5, kernel=linear;, score=0.914 total time=   1.1s\n",
            "[CV 10/10] END ..C=10, gamma=0.5, kernel=linear;, score=0.943 total time=   3.7s\n",
            "[CV 1/10] END .....C=10, gamma=0.75, kernel=rbf;, score=0.833 total time=   0.0s\n",
            "[CV 2/10] END .....C=10, gamma=0.75, kernel=rbf;, score=0.806 total time=   0.0s\n",
            "[CV 3/10] END .....C=10, gamma=0.75, kernel=rbf;, score=0.833 total time=   0.0s\n",
            "[CV 4/10] END .....C=10, gamma=0.75, kernel=rbf;, score=0.806 total time=   0.0s\n",
            "[CV 5/10] END .....C=10, gamma=0.75, kernel=rbf;, score=0.829 total time=   0.0s\n",
            "[CV 6/10] END .....C=10, gamma=0.75, kernel=rbf;, score=0.857 total time=   0.0s\n",
            "[CV 7/10] END .....C=10, gamma=0.75, kernel=rbf;, score=0.857 total time=   0.0s\n",
            "[CV 8/10] END .....C=10, gamma=0.75, kernel=rbf;, score=0.829 total time=   0.0s\n",
            "[CV 9/10] END .....C=10, gamma=0.75, kernel=rbf;, score=0.829 total time=   0.0s\n",
            "[CV 10/10] END ....C=10, gamma=0.75, kernel=rbf;, score=0.829 total time=   0.0s\n",
            "[CV 1/10] END ..C=10, gamma=0.75, kernel=linear;, score=0.889 total time=   1.8s\n",
            "[CV 2/10] END ..C=10, gamma=0.75, kernel=linear;, score=0.944 total time=   2.1s\n",
            "[CV 3/10] END ..C=10, gamma=0.75, kernel=linear;, score=0.889 total time=   0.4s\n",
            "[CV 4/10] END ..C=10, gamma=0.75, kernel=linear;, score=1.000 total time=   2.1s\n",
            "[CV 5/10] END ..C=10, gamma=0.75, kernel=linear;, score=0.971 total time=   1.9s\n",
            "[CV 6/10] END ..C=10, gamma=0.75, kernel=linear;, score=0.886 total time=   0.9s\n",
            "[CV 7/10] END ..C=10, gamma=0.75, kernel=linear;, score=0.914 total time=   3.4s\n",
            "[CV 8/10] END ..C=10, gamma=0.75, kernel=linear;, score=1.000 total time=   2.3s\n",
            "[CV 9/10] END ..C=10, gamma=0.75, kernel=linear;, score=0.914 total time=   2.1s\n",
            "[CV 10/10] END .C=10, gamma=0.75, kernel=linear;, score=0.943 total time=   3.7s\n",
            "[CV 1/10] END ........C=10, gamma=1, kernel=rbf;, score=0.833 total time=   0.0s\n",
            "[CV 2/10] END ........C=10, gamma=1, kernel=rbf;, score=0.806 total time=   0.0s\n",
            "[CV 3/10] END ........C=10, gamma=1, kernel=rbf;, score=0.806 total time=   0.0s\n",
            "[CV 4/10] END ........C=10, gamma=1, kernel=rbf;, score=0.806 total time=   0.0s\n",
            "[CV 5/10] END ........C=10, gamma=1, kernel=rbf;, score=0.829 total time=   0.0s\n",
            "[CV 6/10] END ........C=10, gamma=1, kernel=rbf;, score=0.829 total time=   0.0s\n",
            "[CV 7/10] END ........C=10, gamma=1, kernel=rbf;, score=0.829 total time=   0.0s\n",
            "[CV 8/10] END ........C=10, gamma=1, kernel=rbf;, score=0.829 total time=   0.0s\n",
            "[CV 9/10] END ........C=10, gamma=1, kernel=rbf;, score=0.800 total time=   0.0s\n",
            "[CV 10/10] END .......C=10, gamma=1, kernel=rbf;, score=0.829 total time=   0.0s\n",
            "[CV 1/10] END .....C=10, gamma=1, kernel=linear;, score=0.889 total time=   1.3s\n",
            "[CV 2/10] END .....C=10, gamma=1, kernel=linear;, score=0.944 total time=   1.0s\n",
            "[CV 3/10] END .....C=10, gamma=1, kernel=linear;, score=0.889 total time=   0.4s\n",
            "[CV 4/10] END .....C=10, gamma=1, kernel=linear;, score=1.000 total time=   2.1s\n",
            "[CV 5/10] END .....C=10, gamma=1, kernel=linear;, score=0.971 total time=   2.6s\n",
            "[CV 6/10] END .....C=10, gamma=1, kernel=linear;, score=0.886 total time=   1.6s\n",
            "[CV 7/10] END .....C=10, gamma=1, kernel=linear;, score=0.914 total time=   4.4s\n",
            "[CV 8/10] END .....C=10, gamma=1, kernel=linear;, score=1.000 total time=   2.9s\n",
            "[CV 9/10] END .....C=10, gamma=1, kernel=linear;, score=0.914 total time=   1.1s\n",
            "[CV 10/10] END ....C=10, gamma=1, kernel=linear;, score=0.943 total time=   5.2s\n",
            "[CV 1/10] END .....C=100, gamma=0.1, kernel=rbf;, score=0.833 total time=   0.0s\n",
            "[CV 2/10] END .....C=100, gamma=0.1, kernel=rbf;, score=0.889 total time=   0.0s\n",
            "[CV 3/10] END .....C=100, gamma=0.1, kernel=rbf;, score=0.944 total time=   0.0s\n",
            "[CV 4/10] END .....C=100, gamma=0.1, kernel=rbf;, score=0.861 total time=   0.0s\n",
            "[CV 5/10] END .....C=100, gamma=0.1, kernel=rbf;, score=0.829 total time=   0.0s\n",
            "[CV 6/10] END .....C=100, gamma=0.1, kernel=rbf;, score=0.886 total time=   0.0s\n",
            "[CV 7/10] END .....C=100, gamma=0.1, kernel=rbf;, score=0.886 total time=   0.0s\n",
            "[CV 8/10] END .....C=100, gamma=0.1, kernel=rbf;, score=0.886 total time=   0.0s\n",
            "[CV 9/10] END .....C=100, gamma=0.1, kernel=rbf;, score=0.857 total time=   0.0s\n",
            "[CV 10/10] END ....C=100, gamma=0.1, kernel=rbf;, score=0.829 total time=   0.0s\n",
            "[CV 1/10] END ..C=100, gamma=0.1, kernel=linear;, score=0.889 total time=   9.0s\n",
            "[CV 2/10] END ..C=100, gamma=0.1, kernel=linear;, score=0.944 total time=   6.7s\n",
            "[CV 3/10] END ..C=100, gamma=0.1, kernel=linear;, score=0.889 total time=   2.8s\n",
            "[CV 4/10] END ..C=100, gamma=0.1, kernel=linear;, score=1.000 total time=   2.6s\n",
            "[CV 5/10] END ..C=100, gamma=0.1, kernel=linear;, score=0.943 total time=  16.2s\n",
            "[CV 6/10] END ..C=100, gamma=0.1, kernel=linear;, score=0.886 total time=   6.5s\n",
            "[CV 7/10] END ..C=100, gamma=0.1, kernel=linear;, score=0.914 total time=   6.9s\n",
            "[CV 8/10] END ..C=100, gamma=0.1, kernel=linear;, score=1.000 total time=   4.1s\n",
            "[CV 9/10] END ..C=100, gamma=0.1, kernel=linear;, score=0.943 total time=  12.3s\n",
            "[CV 10/10] END .C=100, gamma=0.1, kernel=linear;, score=0.914 total time=   5.0s\n",
            "[CV 1/10] END ....C=100, gamma=0.25, kernel=rbf;, score=0.833 total time=   0.0s\n",
            "[CV 2/10] END ....C=100, gamma=0.25, kernel=rbf;, score=0.806 total time=   0.0s\n",
            "[CV 3/10] END ....C=100, gamma=0.25, kernel=rbf;, score=0.889 total time=   0.0s\n",
            "[CV 4/10] END ....C=100, gamma=0.25, kernel=rbf;, score=0.806 total time=   0.0s\n",
            "[CV 5/10] END ....C=100, gamma=0.25, kernel=rbf;, score=0.829 total time=   0.0s\n",
            "[CV 6/10] END ....C=100, gamma=0.25, kernel=rbf;, score=0.857 total time=   0.0s\n",
            "[CV 7/10] END ....C=100, gamma=0.25, kernel=rbf;, score=0.886 total time=   0.0s\n",
            "[CV 8/10] END ....C=100, gamma=0.25, kernel=rbf;, score=0.857 total time=   0.0s\n",
            "[CV 9/10] END ....C=100, gamma=0.25, kernel=rbf;, score=0.829 total time=   0.0s\n",
            "[CV 10/10] END ...C=100, gamma=0.25, kernel=rbf;, score=0.829 total time=   0.0s\n",
            "[CV 1/10] END .C=100, gamma=0.25, kernel=linear;, score=0.889 total time=  10.0s\n",
            "[CV 2/10] END .C=100, gamma=0.25, kernel=linear;, score=0.944 total time=   5.2s\n",
            "[CV 3/10] END .C=100, gamma=0.25, kernel=linear;, score=0.889 total time=   4.2s\n",
            "[CV 4/10] END .C=100, gamma=0.25, kernel=linear;, score=1.000 total time=   2.6s\n",
            "[CV 5/10] END .C=100, gamma=0.25, kernel=linear;, score=0.943 total time=  14.0s\n",
            "[CV 6/10] END .C=100, gamma=0.25, kernel=linear;, score=0.886 total time=   6.8s\n",
            "[CV 7/10] END .C=100, gamma=0.25, kernel=linear;, score=0.914 total time=   6.4s\n",
            "[CV 8/10] END .C=100, gamma=0.25, kernel=linear;, score=1.000 total time=   3.7s\n",
            "[CV 9/10] END .C=100, gamma=0.25, kernel=linear;, score=0.943 total time=  12.3s\n",
            "[CV 10/10] END C=100, gamma=0.25, kernel=linear;, score=0.914 total time=   6.5s\n",
            "[CV 1/10] END .....C=100, gamma=0.5, kernel=rbf;, score=0.833 total time=   0.0s\n",
            "[CV 2/10] END .....C=100, gamma=0.5, kernel=rbf;, score=0.806 total time=   0.0s\n",
            "[CV 3/10] END .....C=100, gamma=0.5, kernel=rbf;, score=0.833 total time=   0.0s\n",
            "[CV 4/10] END .....C=100, gamma=0.5, kernel=rbf;, score=0.806 total time=   0.0s\n",
            "[CV 5/10] END .....C=100, gamma=0.5, kernel=rbf;, score=0.829 total time=   0.0s\n",
            "[CV 6/10] END .....C=100, gamma=0.5, kernel=rbf;, score=0.857 total time=   0.0s\n",
            "[CV 7/10] END .....C=100, gamma=0.5, kernel=rbf;, score=0.857 total time=   0.0s\n",
            "[CV 8/10] END .....C=100, gamma=0.5, kernel=rbf;, score=0.829 total time=   0.0s\n",
            "[CV 9/10] END .....C=100, gamma=0.5, kernel=rbf;, score=0.829 total time=   0.0s\n",
            "[CV 10/10] END ....C=100, gamma=0.5, kernel=rbf;, score=0.829 total time=   0.0s\n",
            "[CV 1/10] END ..C=100, gamma=0.5, kernel=linear;, score=0.889 total time=   8.7s\n",
            "[CV 2/10] END ..C=100, gamma=0.5, kernel=linear;, score=0.944 total time=   6.5s\n",
            "[CV 3/10] END ..C=100, gamma=0.5, kernel=linear;, score=0.889 total time=   2.8s\n",
            "[CV 4/10] END ..C=100, gamma=0.5, kernel=linear;, score=1.000 total time=   2.6s\n",
            "[CV 5/10] END ..C=100, gamma=0.5, kernel=linear;, score=0.943 total time=  14.3s\n",
            "[CV 6/10] END ..C=100, gamma=0.5, kernel=linear;, score=0.886 total time=   7.2s\n",
            "[CV 7/10] END ..C=100, gamma=0.5, kernel=linear;, score=0.914 total time=   6.4s\n",
            "[CV 8/10] END ..C=100, gamma=0.5, kernel=linear;, score=1.000 total time=   4.8s\n",
            "[CV 9/10] END ..C=100, gamma=0.5, kernel=linear;, score=0.943 total time=  12.4s\n",
            "[CV 10/10] END .C=100, gamma=0.5, kernel=linear;, score=0.914 total time=   6.6s\n",
            "[CV 1/10] END ....C=100, gamma=0.75, kernel=rbf;, score=0.833 total time=   0.0s\n",
            "[CV 2/10] END ....C=100, gamma=0.75, kernel=rbf;, score=0.806 total time=   0.0s\n",
            "[CV 3/10] END ....C=100, gamma=0.75, kernel=rbf;, score=0.833 total time=   0.0s\n",
            "[CV 4/10] END ....C=100, gamma=0.75, kernel=rbf;, score=0.806 total time=   0.0s\n",
            "[CV 5/10] END ....C=100, gamma=0.75, kernel=rbf;, score=0.829 total time=   0.0s\n",
            "[CV 6/10] END ....C=100, gamma=0.75, kernel=rbf;, score=0.857 total time=   0.0s\n",
            "[CV 7/10] END ....C=100, gamma=0.75, kernel=rbf;, score=0.857 total time=   0.0s\n",
            "[CV 8/10] END ....C=100, gamma=0.75, kernel=rbf;, score=0.829 total time=   0.0s\n",
            "[CV 9/10] END ....C=100, gamma=0.75, kernel=rbf;, score=0.829 total time=   0.0s\n",
            "[CV 10/10] END ...C=100, gamma=0.75, kernel=rbf;, score=0.829 total time=   0.0s\n",
            "[CV 1/10] END .C=100, gamma=0.75, kernel=linear;, score=0.889 total time=  10.0s\n",
            "[CV 2/10] END .C=100, gamma=0.75, kernel=linear;, score=0.944 total time=   6.1s\n",
            "[CV 3/10] END .C=100, gamma=0.75, kernel=linear;, score=0.889 total time=   3.3s\n",
            "[CV 4/10] END .C=100, gamma=0.75, kernel=linear;, score=1.000 total time=   2.6s\n",
            "[CV 5/10] END .C=100, gamma=0.75, kernel=linear;, score=0.943 total time=  14.0s\n",
            "[CV 6/10] END .C=100, gamma=0.75, kernel=linear;, score=0.886 total time=   7.5s\n",
            "[CV 7/10] END .C=100, gamma=0.75, kernel=linear;, score=0.914 total time=   5.7s\n",
            "[CV 8/10] END .C=100, gamma=0.75, kernel=linear;, score=1.000 total time=   3.7s\n",
            "[CV 9/10] END .C=100, gamma=0.75, kernel=linear;, score=0.943 total time=  12.3s\n",
            "[CV 10/10] END C=100, gamma=0.75, kernel=linear;, score=0.914 total time=   6.6s\n",
            "[CV 1/10] END .......C=100, gamma=1, kernel=rbf;, score=0.833 total time=   0.0s\n",
            "[CV 2/10] END .......C=100, gamma=1, kernel=rbf;, score=0.806 total time=   0.0s\n",
            "[CV 3/10] END .......C=100, gamma=1, kernel=rbf;, score=0.806 total time=   0.0s\n",
            "[CV 4/10] END .......C=100, gamma=1, kernel=rbf;, score=0.806 total time=   0.0s\n",
            "[CV 5/10] END .......C=100, gamma=1, kernel=rbf;, score=0.829 total time=   0.0s\n",
            "[CV 6/10] END .......C=100, gamma=1, kernel=rbf;, score=0.829 total time=   0.0s\n",
            "[CV 7/10] END .......C=100, gamma=1, kernel=rbf;, score=0.829 total time=   0.0s\n",
            "[CV 8/10] END .......C=100, gamma=1, kernel=rbf;, score=0.829 total time=   0.0s\n",
            "[CV 9/10] END .......C=100, gamma=1, kernel=rbf;, score=0.800 total time=   0.0s\n",
            "[CV 10/10] END ......C=100, gamma=1, kernel=rbf;, score=0.829 total time=   0.0s\n",
            "[CV 1/10] END ....C=100, gamma=1, kernel=linear;, score=0.889 total time=   9.6s\n",
            "[CV 2/10] END ....C=100, gamma=1, kernel=linear;, score=0.944 total time=   5.5s\n",
            "[CV 3/10] END ....C=100, gamma=1, kernel=linear;, score=0.889 total time=   2.8s\n",
            "[CV 4/10] END ....C=100, gamma=1, kernel=linear;, score=1.000 total time=   2.7s\n",
            "[CV 5/10] END ....C=100, gamma=1, kernel=linear;, score=0.943 total time=  15.1s\n",
            "[CV 6/10] END ....C=100, gamma=1, kernel=linear;, score=0.886 total time=   6.3s\n",
            "[CV 7/10] END ....C=100, gamma=1, kernel=linear;, score=0.914 total time=   7.1s\n",
            "[CV 8/10] END ....C=100, gamma=1, kernel=linear;, score=1.000 total time=   3.8s\n",
            "[CV 9/10] END ....C=100, gamma=1, kernel=linear;, score=0.943 total time=  12.3s\n",
            "[CV 10/10] END ...C=100, gamma=1, kernel=linear;, score=0.914 total time=   5.0s\n"
          ]
        },
        {
          "output_type": "execute_result",
          "data": {
            "text/plain": [
              "GridSearchCV(cv=10, estimator=SVC(),\n",
              "             param_grid={'C': [0.01, 0.1, 1, 10, 100],\n",
              "                         'gamma': [0.1, 0.25, 0.5, 0.75, 1],\n",
              "                         'kernel': ['rbf', 'linear']},\n",
              "             verbose=3)"
            ],
            "text/html": [
              "<style>#sk-container-id-5 {color: black;background-color: white;}#sk-container-id-5 pre{padding: 0;}#sk-container-id-5 div.sk-toggleable {background-color: white;}#sk-container-id-5 label.sk-toggleable__label {cursor: pointer;display: block;width: 100%;margin-bottom: 0;padding: 0.3em;box-sizing: border-box;text-align: center;}#sk-container-id-5 label.sk-toggleable__label-arrow:before {content: \"▸\";float: left;margin-right: 0.25em;color: #696969;}#sk-container-id-5 label.sk-toggleable__label-arrow:hover:before {color: black;}#sk-container-id-5 div.sk-estimator:hover label.sk-toggleable__label-arrow:before {color: black;}#sk-container-id-5 div.sk-toggleable__content {max-height: 0;max-width: 0;overflow: hidden;text-align: left;background-color: #f0f8ff;}#sk-container-id-5 div.sk-toggleable__content pre {margin: 0.2em;color: black;border-radius: 0.25em;background-color: #f0f8ff;}#sk-container-id-5 input.sk-toggleable__control:checked~div.sk-toggleable__content {max-height: 200px;max-width: 100%;overflow: auto;}#sk-container-id-5 input.sk-toggleable__control:checked~label.sk-toggleable__label-arrow:before {content: \"▾\";}#sk-container-id-5 div.sk-estimator input.sk-toggleable__control:checked~label.sk-toggleable__label {background-color: #d4ebff;}#sk-container-id-5 div.sk-label input.sk-toggleable__control:checked~label.sk-toggleable__label {background-color: #d4ebff;}#sk-container-id-5 input.sk-hidden--visually {border: 0;clip: rect(1px 1px 1px 1px);clip: rect(1px, 1px, 1px, 1px);height: 1px;margin: -1px;overflow: hidden;padding: 0;position: absolute;width: 1px;}#sk-container-id-5 div.sk-estimator {font-family: monospace;background-color: #f0f8ff;border: 1px dotted black;border-radius: 0.25em;box-sizing: border-box;margin-bottom: 0.5em;}#sk-container-id-5 div.sk-estimator:hover {background-color: #d4ebff;}#sk-container-id-5 div.sk-parallel-item::after {content: \"\";width: 100%;border-bottom: 1px solid gray;flex-grow: 1;}#sk-container-id-5 div.sk-label:hover label.sk-toggleable__label {background-color: #d4ebff;}#sk-container-id-5 div.sk-serial::before {content: \"\";position: absolute;border-left: 1px solid gray;box-sizing: border-box;top: 0;bottom: 0;left: 50%;z-index: 0;}#sk-container-id-5 div.sk-serial {display: flex;flex-direction: column;align-items: center;background-color: white;padding-right: 0.2em;padding-left: 0.2em;position: relative;}#sk-container-id-5 div.sk-item {position: relative;z-index: 1;}#sk-container-id-5 div.sk-parallel {display: flex;align-items: stretch;justify-content: center;background-color: white;position: relative;}#sk-container-id-5 div.sk-item::before, #sk-container-id-5 div.sk-parallel-item::before {content: \"\";position: absolute;border-left: 1px solid gray;box-sizing: border-box;top: 0;bottom: 0;left: 50%;z-index: -1;}#sk-container-id-5 div.sk-parallel-item {display: flex;flex-direction: column;z-index: 1;position: relative;background-color: white;}#sk-container-id-5 div.sk-parallel-item:first-child::after {align-self: flex-end;width: 50%;}#sk-container-id-5 div.sk-parallel-item:last-child::after {align-self: flex-start;width: 50%;}#sk-container-id-5 div.sk-parallel-item:only-child::after {width: 0;}#sk-container-id-5 div.sk-dashed-wrapped {border: 1px dashed gray;margin: 0 0.4em 0.5em 0.4em;box-sizing: border-box;padding-bottom: 0.4em;background-color: white;}#sk-container-id-5 div.sk-label label {font-family: monospace;font-weight: bold;display: inline-block;line-height: 1.2em;}#sk-container-id-5 div.sk-label-container {text-align: center;}#sk-container-id-5 div.sk-container {/* jupyter's `normalize.less` sets `[hidden] { display: none; }` but bootstrap.min.css set `[hidden] { display: none !important; }` so we also need the `!important` here to be able to override the default hidden behavior on the sphinx rendered scikit-learn.org. See: https://github.com/scikit-learn/scikit-learn/issues/21755 */display: inline-block !important;position: relative;}#sk-container-id-5 div.sk-text-repr-fallback {display: none;}</style><div id=\"sk-container-id-5\" class=\"sk-top-container\"><div class=\"sk-text-repr-fallback\"><pre>GridSearchCV(cv=10, estimator=SVC(),\n",
              "             param_grid={&#x27;C&#x27;: [0.01, 0.1, 1, 10, 100],\n",
              "                         &#x27;gamma&#x27;: [0.1, 0.25, 0.5, 0.75, 1],\n",
              "                         &#x27;kernel&#x27;: [&#x27;rbf&#x27;, &#x27;linear&#x27;]},\n",
              "             verbose=3)</pre><b>In a Jupyter environment, please rerun this cell to show the HTML representation or trust the notebook. <br />On GitHub, the HTML representation is unable to render, please try loading this page with nbviewer.org.</b></div><div class=\"sk-container\" hidden><div class=\"sk-item sk-dashed-wrapped\"><div class=\"sk-label-container\"><div class=\"sk-label sk-toggleable\"><input class=\"sk-toggleable__control sk-hidden--visually\" id=\"sk-estimator-id-7\" type=\"checkbox\" ><label for=\"sk-estimator-id-7\" class=\"sk-toggleable__label sk-toggleable__label-arrow\">GridSearchCV</label><div class=\"sk-toggleable__content\"><pre>GridSearchCV(cv=10, estimator=SVC(),\n",
              "             param_grid={&#x27;C&#x27;: [0.01, 0.1, 1, 10, 100],\n",
              "                         &#x27;gamma&#x27;: [0.1, 0.25, 0.5, 0.75, 1],\n",
              "                         &#x27;kernel&#x27;: [&#x27;rbf&#x27;, &#x27;linear&#x27;]},\n",
              "             verbose=3)</pre></div></div></div><div class=\"sk-parallel\"><div class=\"sk-parallel-item\"><div class=\"sk-item\"><div class=\"sk-label-container\"><div class=\"sk-label sk-toggleable\"><input class=\"sk-toggleable__control sk-hidden--visually\" id=\"sk-estimator-id-8\" type=\"checkbox\" ><label for=\"sk-estimator-id-8\" class=\"sk-toggleable__label sk-toggleable__label-arrow\">estimator: SVC</label><div class=\"sk-toggleable__content\"><pre>SVC()</pre></div></div></div><div class=\"sk-serial\"><div class=\"sk-item\"><div class=\"sk-estimator sk-toggleable\"><input class=\"sk-toggleable__control sk-hidden--visually\" id=\"sk-estimator-id-9\" type=\"checkbox\" ><label for=\"sk-estimator-id-9\" class=\"sk-toggleable__label sk-toggleable__label-arrow\">SVC</label><div class=\"sk-toggleable__content\"><pre>SVC()</pre></div></div></div></div></div></div></div></div></div></div>"
            ]
          },
          "metadata": {},
          "execution_count": 41
        }
      ]
    },
    {
      "cell_type": "code",
      "source": [
        "grid.best_params_"
      ],
      "metadata": {
        "colab": {
          "base_uri": "https://localhost:8080/"
        },
        "id": "j6_ykP_Z69ZN",
        "outputId": "afd127bf-da67-4491-c3bd-48422b9bb1c4"
      },
      "execution_count": 42,
      "outputs": [
        {
          "output_type": "execute_result",
          "data": {
            "text/plain": [
              "{'C': 1, 'gamma': 0.1, 'kernel': 'linear'}"
            ]
          },
          "metadata": {},
          "execution_count": 42
        }
      ]
    },
    {
      "cell_type": "code",
      "source": [
        "grid.score(X_val,y_val)"
      ],
      "metadata": {
        "colab": {
          "base_uri": "https://localhost:8080/"
        },
        "id": "n0sXEVnK7BzP",
        "outputId": "3a77b493-e49e-4565-9620-042ed892ab2b"
      },
      "execution_count": 43,
      "outputs": [
        {
          "output_type": "execute_result",
          "data": {
            "text/plain": [
              "0.9605263157894737"
            ]
          },
          "metadata": {},
          "execution_count": 43
        }
      ]
    },
    {
      "cell_type": "code",
      "source": [
        "prediction = linearSVM.predict(X_val)\n",
        "\n",
        "confusion_matrix(y_val, prediction)"
      ],
      "metadata": {
        "colab": {
          "base_uri": "https://localhost:8080/"
        },
        "id": "op2vwLg67eoR",
        "outputId": "2e689ff0-fce6-489d-a06a-0a66890d03ee"
      },
      "execution_count": 44,
      "outputs": [
        {
          "output_type": "execute_result",
          "data": {
            "text/plain": [
              "array([[128,   3],\n",
              "       [  3,  18]])"
            ]
          },
          "metadata": {},
          "execution_count": 44
        }
      ]
    },
    {
      "cell_type": "code",
      "source": [
        "accuracy_score(y_val,prediction)"
      ],
      "metadata": {
        "colab": {
          "base_uri": "https://localhost:8080/"
        },
        "id": "vRYnske99FTj",
        "outputId": "ba409cea-cd64-494f-8b1f-2df15c7a2817"
      },
      "execution_count": 45,
      "outputs": [
        {
          "output_type": "execute_result",
          "data": {
            "text/plain": [
              "0.9605263157894737"
            ]
          },
          "metadata": {},
          "execution_count": 45
        }
      ]
    }
  ]
}